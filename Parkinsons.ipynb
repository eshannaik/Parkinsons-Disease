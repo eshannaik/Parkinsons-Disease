{
  "nbformat": 4,
  "nbformat_minor": 0,
  "metadata": {
    "colab": {
      "name": "Parkinsons.ipynb",
      "provenance": [],
      "toc_visible": true
    },
    "kernelspec": {
      "name": "python3",
      "display_name": "Python 3"
    },
    "language_info": {
      "name": "python"
    }
  },
  "cells": [
    {
      "cell_type": "markdown",
      "metadata": {
        "id": "IA75DXn4pqqn"
      },
      "source": [
        "#Parkinsons Disease"
      ]
    },
    {
      "cell_type": "markdown",
      "metadata": {
        "id": "uARzYByApumM"
      },
      "source": [
        "### Importing Libraries "
      ]
    },
    {
      "cell_type": "code",
      "metadata": {
        "id": "cyYPniftpOwU"
      },
      "source": [
        "import pandas as pd\n",
        "import numpy as np\n",
        "import matplotlib.pyplot as plt\n",
        "import seaborn as sns"
      ],
      "execution_count": null,
      "outputs": []
    },
    {
      "cell_type": "code",
      "metadata": {
        "colab": {
          "base_uri": "https://localhost:8080/"
        },
        "id": "TlSLTGOYY6iI",
        "outputId": "e09e1385-c397-415c-bf5d-13d99498173e"
      },
      "source": [
        "pip install catboost"
      ],
      "execution_count": null,
      "outputs": [
        {
          "output_type": "stream",
          "text": [
            "Collecting catboost\n",
            "\u001b[?25l  Downloading https://files.pythonhosted.org/packages/47/80/8e9c57ec32dfed6ba2922bc5c96462cbf8596ce1a6f5de532ad1e43e53fe/catboost-0.25.1-cp37-none-manylinux1_x86_64.whl (67.3MB)\n",
            "\u001b[K     |████████████████████████████████| 67.3MB 53kB/s \n",
            "\u001b[?25hRequirement already satisfied: pandas>=0.24.0 in /usr/local/lib/python3.7/dist-packages (from catboost) (1.1.5)\n",
            "Requirement already satisfied: numpy>=1.16.0 in /usr/local/lib/python3.7/dist-packages (from catboost) (1.19.5)\n",
            "Requirement already satisfied: graphviz in /usr/local/lib/python3.7/dist-packages (from catboost) (0.10.1)\n",
            "Requirement already satisfied: matplotlib in /usr/local/lib/python3.7/dist-packages (from catboost) (3.2.2)\n",
            "Requirement already satisfied: scipy in /usr/local/lib/python3.7/dist-packages (from catboost) (1.4.1)\n",
            "Requirement already satisfied: six in /usr/local/lib/python3.7/dist-packages (from catboost) (1.15.0)\n",
            "Requirement already satisfied: plotly in /usr/local/lib/python3.7/dist-packages (from catboost) (4.4.1)\n",
            "Requirement already satisfied: python-dateutil>=2.7.3 in /usr/local/lib/python3.7/dist-packages (from pandas>=0.24.0->catboost) (2.8.1)\n",
            "Requirement already satisfied: pytz>=2017.2 in /usr/local/lib/python3.7/dist-packages (from pandas>=0.24.0->catboost) (2018.9)\n",
            "Requirement already satisfied: pyparsing!=2.0.4,!=2.1.2,!=2.1.6,>=2.0.1 in /usr/local/lib/python3.7/dist-packages (from matplotlib->catboost) (2.4.7)\n",
            "Requirement already satisfied: kiwisolver>=1.0.1 in /usr/local/lib/python3.7/dist-packages (from matplotlib->catboost) (1.3.1)\n",
            "Requirement already satisfied: cycler>=0.10 in /usr/local/lib/python3.7/dist-packages (from matplotlib->catboost) (0.10.0)\n",
            "Requirement already satisfied: retrying>=1.3.3 in /usr/local/lib/python3.7/dist-packages (from plotly->catboost) (1.3.3)\n",
            "Installing collected packages: catboost\n",
            "Successfully installed catboost-0.25.1\n"
          ],
          "name": "stdout"
        }
      ]
    },
    {
      "cell_type": "code",
      "metadata": {
        "id": "WpuEOQJ1pbBw"
      },
      "source": [
        "d=pd.read_csv(\"parkinsons.data\")\n",
        "x=d.loc[:,d.columns != 'status'].values[:,1:]\n",
        "y=d.loc[:,'status'].values"
      ],
      "execution_count": null,
      "outputs": []
    },
    {
      "cell_type": "code",
      "metadata": {
        "colab": {
          "base_uri": "https://localhost:8080/",
          "height": 215
        },
        "id": "6nr61YZWplx2",
        "outputId": "e1d8d8c0-b7a1-46ae-e7d7-951a812c26b0"
      },
      "source": [
        "d.head()"
      ],
      "execution_count": null,
      "outputs": [
        {
          "output_type": "execute_result",
          "data": {
            "text/html": [
              "<div>\n",
              "<style scoped>\n",
              "    .dataframe tbody tr th:only-of-type {\n",
              "        vertical-align: middle;\n",
              "    }\n",
              "\n",
              "    .dataframe tbody tr th {\n",
              "        vertical-align: top;\n",
              "    }\n",
              "\n",
              "    .dataframe thead th {\n",
              "        text-align: right;\n",
              "    }\n",
              "</style>\n",
              "<table border=\"1\" class=\"dataframe\">\n",
              "  <thead>\n",
              "    <tr style=\"text-align: right;\">\n",
              "      <th></th>\n",
              "      <th>name</th>\n",
              "      <th>MDVP:Fo(Hz)</th>\n",
              "      <th>MDVP:Fhi(Hz)</th>\n",
              "      <th>MDVP:Flo(Hz)</th>\n",
              "      <th>MDVP:Jitter(%)</th>\n",
              "      <th>MDVP:Jitter(Abs)</th>\n",
              "      <th>MDVP:RAP</th>\n",
              "      <th>MDVP:PPQ</th>\n",
              "      <th>Jitter:DDP</th>\n",
              "      <th>MDVP:Shimmer</th>\n",
              "      <th>MDVP:Shimmer(dB)</th>\n",
              "      <th>Shimmer:APQ3</th>\n",
              "      <th>Shimmer:APQ5</th>\n",
              "      <th>MDVP:APQ</th>\n",
              "      <th>Shimmer:DDA</th>\n",
              "      <th>NHR</th>\n",
              "      <th>HNR</th>\n",
              "      <th>status</th>\n",
              "      <th>RPDE</th>\n",
              "      <th>DFA</th>\n",
              "      <th>spread1</th>\n",
              "      <th>spread2</th>\n",
              "      <th>D2</th>\n",
              "      <th>PPE</th>\n",
              "    </tr>\n",
              "  </thead>\n",
              "  <tbody>\n",
              "    <tr>\n",
              "      <th>0</th>\n",
              "      <td>phon_R01_S01_1</td>\n",
              "      <td>119.992</td>\n",
              "      <td>157.302</td>\n",
              "      <td>74.997</td>\n",
              "      <td>0.00784</td>\n",
              "      <td>0.00007</td>\n",
              "      <td>0.00370</td>\n",
              "      <td>0.00554</td>\n",
              "      <td>0.01109</td>\n",
              "      <td>0.04374</td>\n",
              "      <td>0.426</td>\n",
              "      <td>0.02182</td>\n",
              "      <td>0.03130</td>\n",
              "      <td>0.02971</td>\n",
              "      <td>0.06545</td>\n",
              "      <td>0.02211</td>\n",
              "      <td>21.033</td>\n",
              "      <td>1</td>\n",
              "      <td>0.414783</td>\n",
              "      <td>0.815285</td>\n",
              "      <td>-4.813031</td>\n",
              "      <td>0.266482</td>\n",
              "      <td>2.301442</td>\n",
              "      <td>0.284654</td>\n",
              "    </tr>\n",
              "    <tr>\n",
              "      <th>1</th>\n",
              "      <td>phon_R01_S01_2</td>\n",
              "      <td>122.400</td>\n",
              "      <td>148.650</td>\n",
              "      <td>113.819</td>\n",
              "      <td>0.00968</td>\n",
              "      <td>0.00008</td>\n",
              "      <td>0.00465</td>\n",
              "      <td>0.00696</td>\n",
              "      <td>0.01394</td>\n",
              "      <td>0.06134</td>\n",
              "      <td>0.626</td>\n",
              "      <td>0.03134</td>\n",
              "      <td>0.04518</td>\n",
              "      <td>0.04368</td>\n",
              "      <td>0.09403</td>\n",
              "      <td>0.01929</td>\n",
              "      <td>19.085</td>\n",
              "      <td>1</td>\n",
              "      <td>0.458359</td>\n",
              "      <td>0.819521</td>\n",
              "      <td>-4.075192</td>\n",
              "      <td>0.335590</td>\n",
              "      <td>2.486855</td>\n",
              "      <td>0.368674</td>\n",
              "    </tr>\n",
              "    <tr>\n",
              "      <th>2</th>\n",
              "      <td>phon_R01_S01_3</td>\n",
              "      <td>116.682</td>\n",
              "      <td>131.111</td>\n",
              "      <td>111.555</td>\n",
              "      <td>0.01050</td>\n",
              "      <td>0.00009</td>\n",
              "      <td>0.00544</td>\n",
              "      <td>0.00781</td>\n",
              "      <td>0.01633</td>\n",
              "      <td>0.05233</td>\n",
              "      <td>0.482</td>\n",
              "      <td>0.02757</td>\n",
              "      <td>0.03858</td>\n",
              "      <td>0.03590</td>\n",
              "      <td>0.08270</td>\n",
              "      <td>0.01309</td>\n",
              "      <td>20.651</td>\n",
              "      <td>1</td>\n",
              "      <td>0.429895</td>\n",
              "      <td>0.825288</td>\n",
              "      <td>-4.443179</td>\n",
              "      <td>0.311173</td>\n",
              "      <td>2.342259</td>\n",
              "      <td>0.332634</td>\n",
              "    </tr>\n",
              "    <tr>\n",
              "      <th>3</th>\n",
              "      <td>phon_R01_S01_4</td>\n",
              "      <td>116.676</td>\n",
              "      <td>137.871</td>\n",
              "      <td>111.366</td>\n",
              "      <td>0.00997</td>\n",
              "      <td>0.00009</td>\n",
              "      <td>0.00502</td>\n",
              "      <td>0.00698</td>\n",
              "      <td>0.01505</td>\n",
              "      <td>0.05492</td>\n",
              "      <td>0.517</td>\n",
              "      <td>0.02924</td>\n",
              "      <td>0.04005</td>\n",
              "      <td>0.03772</td>\n",
              "      <td>0.08771</td>\n",
              "      <td>0.01353</td>\n",
              "      <td>20.644</td>\n",
              "      <td>1</td>\n",
              "      <td>0.434969</td>\n",
              "      <td>0.819235</td>\n",
              "      <td>-4.117501</td>\n",
              "      <td>0.334147</td>\n",
              "      <td>2.405554</td>\n",
              "      <td>0.368975</td>\n",
              "    </tr>\n",
              "    <tr>\n",
              "      <th>4</th>\n",
              "      <td>phon_R01_S01_5</td>\n",
              "      <td>116.014</td>\n",
              "      <td>141.781</td>\n",
              "      <td>110.655</td>\n",
              "      <td>0.01284</td>\n",
              "      <td>0.00011</td>\n",
              "      <td>0.00655</td>\n",
              "      <td>0.00908</td>\n",
              "      <td>0.01966</td>\n",
              "      <td>0.06425</td>\n",
              "      <td>0.584</td>\n",
              "      <td>0.03490</td>\n",
              "      <td>0.04825</td>\n",
              "      <td>0.04465</td>\n",
              "      <td>0.10470</td>\n",
              "      <td>0.01767</td>\n",
              "      <td>19.649</td>\n",
              "      <td>1</td>\n",
              "      <td>0.417356</td>\n",
              "      <td>0.823484</td>\n",
              "      <td>-3.747787</td>\n",
              "      <td>0.234513</td>\n",
              "      <td>2.332180</td>\n",
              "      <td>0.410335</td>\n",
              "    </tr>\n",
              "  </tbody>\n",
              "</table>\n",
              "</div>"
            ],
            "text/plain": [
              "             name  MDVP:Fo(Hz)  MDVP:Fhi(Hz)  ...   spread2        D2       PPE\n",
              "0  phon_R01_S01_1      119.992       157.302  ...  0.266482  2.301442  0.284654\n",
              "1  phon_R01_S01_2      122.400       148.650  ...  0.335590  2.486855  0.368674\n",
              "2  phon_R01_S01_3      116.682       131.111  ...  0.311173  2.342259  0.332634\n",
              "3  phon_R01_S01_4      116.676       137.871  ...  0.334147  2.405554  0.368975\n",
              "4  phon_R01_S01_5      116.014       141.781  ...  0.234513  2.332180  0.410335\n",
              "\n",
              "[5 rows x 24 columns]"
            ]
          },
          "metadata": {
            "tags": []
          },
          "execution_count": 4
        }
      ]
    },
    {
      "cell_type": "code",
      "metadata": {
        "colab": {
          "base_uri": "https://localhost:8080/"
        },
        "id": "fyaSV6GlqmPJ",
        "outputId": "57ce060f-40de-4faa-98bb-985f937c39a1"
      },
      "source": [
        "print(x)"
      ],
      "execution_count": null,
      "outputs": [
        {
          "output_type": "stream",
          "text": [
            "[[119.992 157.302 74.997 ... 0.266482 2.3014419999999998 0.284654]\n",
            " [122.4 148.65 113.819 ... 0.33559 2.486855 0.368674]\n",
            " [116.682 131.111 111.555 ... 0.311173 2.342259 0.33263400000000004]\n",
            " ...\n",
            " [174.688 240.005 74.287 ... 0.158453 2.6797720000000003\n",
            "  0.13172799999999998]\n",
            " [198.764 396.961 74.904 ... 0.207454 2.138608 0.123306]\n",
            " [214.289 260.277 77.973 ... 0.190667 2.555477 0.148569]]\n"
          ],
          "name": "stdout"
        }
      ]
    },
    {
      "cell_type": "code",
      "metadata": {
        "colab": {
          "base_uri": "https://localhost:8080/"
        },
        "id": "dO7qOj1Qq0sg",
        "outputId": "060518c9-8b7b-475c-97ce-16980a881919"
      },
      "source": [
        "print(y)"
      ],
      "execution_count": null,
      "outputs": [
        {
          "output_type": "stream",
          "text": [
            "[1 1 1 1 1 1 1 1 1 1 1 1 1 1 1 1 1 1 1 1 1 1 1 1 1 1 1 1 1 1 0 0 0 0 0 0 1\n",
            " 1 1 1 1 1 0 0 0 0 0 0 0 0 0 0 0 0 1 1 1 1 1 1 0 0 0 0 0 0 1 1 1 1 1 1 1 1\n",
            " 1 1 1 1 1 1 1 1 1 1 1 1 1 1 1 1 1 1 1 1 1 1 1 1 1 1 1 1 1 1 1 1 1 1 1 1 1\n",
            " 1 1 1 1 1 1 1 1 1 1 1 1 1 1 1 1 1 1 1 1 1 1 1 1 1 1 1 1 1 1 1 1 1 1 1 1 1\n",
            " 1 1 1 1 1 1 1 1 1 1 1 1 1 1 1 1 1 0 0 0 0 0 0 0 0 0 0 0 0 1 1 1 1 1 1 0 0\n",
            " 0 0 0 0 0 0 0 0 0 0]\n"
          ],
          "name": "stdout"
        }
      ]
    },
    {
      "cell_type": "code",
      "metadata": {
        "colab": {
          "base_uri": "https://localhost:8080/",
          "height": 304
        },
        "id": "hLPp92QSsTBl",
        "outputId": "b04acd78-8b7c-43e0-87fe-f045d0eb1e5d"
      },
      "source": [
        "d.describe()"
      ],
      "execution_count": null,
      "outputs": [
        {
          "output_type": "execute_result",
          "data": {
            "text/html": [
              "<div>\n",
              "<style scoped>\n",
              "    .dataframe tbody tr th:only-of-type {\n",
              "        vertical-align: middle;\n",
              "    }\n",
              "\n",
              "    .dataframe tbody tr th {\n",
              "        vertical-align: top;\n",
              "    }\n",
              "\n",
              "    .dataframe thead th {\n",
              "        text-align: right;\n",
              "    }\n",
              "</style>\n",
              "<table border=\"1\" class=\"dataframe\">\n",
              "  <thead>\n",
              "    <tr style=\"text-align: right;\">\n",
              "      <th></th>\n",
              "      <th>MDVP:Fo(Hz)</th>\n",
              "      <th>MDVP:Fhi(Hz)</th>\n",
              "      <th>MDVP:Flo(Hz)</th>\n",
              "      <th>MDVP:Jitter(%)</th>\n",
              "      <th>MDVP:Jitter(Abs)</th>\n",
              "      <th>MDVP:RAP</th>\n",
              "      <th>MDVP:PPQ</th>\n",
              "      <th>Jitter:DDP</th>\n",
              "      <th>MDVP:Shimmer</th>\n",
              "      <th>MDVP:Shimmer(dB)</th>\n",
              "      <th>Shimmer:APQ3</th>\n",
              "      <th>Shimmer:APQ5</th>\n",
              "      <th>MDVP:APQ</th>\n",
              "      <th>Shimmer:DDA</th>\n",
              "      <th>NHR</th>\n",
              "      <th>HNR</th>\n",
              "      <th>status</th>\n",
              "      <th>RPDE</th>\n",
              "      <th>DFA</th>\n",
              "      <th>spread1</th>\n",
              "      <th>spread2</th>\n",
              "      <th>D2</th>\n",
              "      <th>PPE</th>\n",
              "    </tr>\n",
              "  </thead>\n",
              "  <tbody>\n",
              "    <tr>\n",
              "      <th>count</th>\n",
              "      <td>195.000000</td>\n",
              "      <td>195.000000</td>\n",
              "      <td>195.000000</td>\n",
              "      <td>195.000000</td>\n",
              "      <td>195.000000</td>\n",
              "      <td>195.000000</td>\n",
              "      <td>195.000000</td>\n",
              "      <td>195.000000</td>\n",
              "      <td>195.000000</td>\n",
              "      <td>195.000000</td>\n",
              "      <td>195.000000</td>\n",
              "      <td>195.000000</td>\n",
              "      <td>195.000000</td>\n",
              "      <td>195.000000</td>\n",
              "      <td>195.000000</td>\n",
              "      <td>195.000000</td>\n",
              "      <td>195.000000</td>\n",
              "      <td>195.000000</td>\n",
              "      <td>195.000000</td>\n",
              "      <td>195.000000</td>\n",
              "      <td>195.000000</td>\n",
              "      <td>195.000000</td>\n",
              "      <td>195.000000</td>\n",
              "    </tr>\n",
              "    <tr>\n",
              "      <th>mean</th>\n",
              "      <td>154.228641</td>\n",
              "      <td>197.104918</td>\n",
              "      <td>116.324631</td>\n",
              "      <td>0.006220</td>\n",
              "      <td>0.000044</td>\n",
              "      <td>0.003306</td>\n",
              "      <td>0.003446</td>\n",
              "      <td>0.009920</td>\n",
              "      <td>0.029709</td>\n",
              "      <td>0.282251</td>\n",
              "      <td>0.015664</td>\n",
              "      <td>0.017878</td>\n",
              "      <td>0.024081</td>\n",
              "      <td>0.046993</td>\n",
              "      <td>0.024847</td>\n",
              "      <td>21.885974</td>\n",
              "      <td>0.753846</td>\n",
              "      <td>0.498536</td>\n",
              "      <td>0.718099</td>\n",
              "      <td>-5.684397</td>\n",
              "      <td>0.226510</td>\n",
              "      <td>2.381826</td>\n",
              "      <td>0.206552</td>\n",
              "    </tr>\n",
              "    <tr>\n",
              "      <th>std</th>\n",
              "      <td>41.390065</td>\n",
              "      <td>91.491548</td>\n",
              "      <td>43.521413</td>\n",
              "      <td>0.004848</td>\n",
              "      <td>0.000035</td>\n",
              "      <td>0.002968</td>\n",
              "      <td>0.002759</td>\n",
              "      <td>0.008903</td>\n",
              "      <td>0.018857</td>\n",
              "      <td>0.194877</td>\n",
              "      <td>0.010153</td>\n",
              "      <td>0.012024</td>\n",
              "      <td>0.016947</td>\n",
              "      <td>0.030459</td>\n",
              "      <td>0.040418</td>\n",
              "      <td>4.425764</td>\n",
              "      <td>0.431878</td>\n",
              "      <td>0.103942</td>\n",
              "      <td>0.055336</td>\n",
              "      <td>1.090208</td>\n",
              "      <td>0.083406</td>\n",
              "      <td>0.382799</td>\n",
              "      <td>0.090119</td>\n",
              "    </tr>\n",
              "    <tr>\n",
              "      <th>min</th>\n",
              "      <td>88.333000</td>\n",
              "      <td>102.145000</td>\n",
              "      <td>65.476000</td>\n",
              "      <td>0.001680</td>\n",
              "      <td>0.000007</td>\n",
              "      <td>0.000680</td>\n",
              "      <td>0.000920</td>\n",
              "      <td>0.002040</td>\n",
              "      <td>0.009540</td>\n",
              "      <td>0.085000</td>\n",
              "      <td>0.004550</td>\n",
              "      <td>0.005700</td>\n",
              "      <td>0.007190</td>\n",
              "      <td>0.013640</td>\n",
              "      <td>0.000650</td>\n",
              "      <td>8.441000</td>\n",
              "      <td>0.000000</td>\n",
              "      <td>0.256570</td>\n",
              "      <td>0.574282</td>\n",
              "      <td>-7.964984</td>\n",
              "      <td>0.006274</td>\n",
              "      <td>1.423287</td>\n",
              "      <td>0.044539</td>\n",
              "    </tr>\n",
              "    <tr>\n",
              "      <th>25%</th>\n",
              "      <td>117.572000</td>\n",
              "      <td>134.862500</td>\n",
              "      <td>84.291000</td>\n",
              "      <td>0.003460</td>\n",
              "      <td>0.000020</td>\n",
              "      <td>0.001660</td>\n",
              "      <td>0.001860</td>\n",
              "      <td>0.004985</td>\n",
              "      <td>0.016505</td>\n",
              "      <td>0.148500</td>\n",
              "      <td>0.008245</td>\n",
              "      <td>0.009580</td>\n",
              "      <td>0.013080</td>\n",
              "      <td>0.024735</td>\n",
              "      <td>0.005925</td>\n",
              "      <td>19.198000</td>\n",
              "      <td>1.000000</td>\n",
              "      <td>0.421306</td>\n",
              "      <td>0.674758</td>\n",
              "      <td>-6.450096</td>\n",
              "      <td>0.174351</td>\n",
              "      <td>2.099125</td>\n",
              "      <td>0.137451</td>\n",
              "    </tr>\n",
              "    <tr>\n",
              "      <th>50%</th>\n",
              "      <td>148.790000</td>\n",
              "      <td>175.829000</td>\n",
              "      <td>104.315000</td>\n",
              "      <td>0.004940</td>\n",
              "      <td>0.000030</td>\n",
              "      <td>0.002500</td>\n",
              "      <td>0.002690</td>\n",
              "      <td>0.007490</td>\n",
              "      <td>0.022970</td>\n",
              "      <td>0.221000</td>\n",
              "      <td>0.012790</td>\n",
              "      <td>0.013470</td>\n",
              "      <td>0.018260</td>\n",
              "      <td>0.038360</td>\n",
              "      <td>0.011660</td>\n",
              "      <td>22.085000</td>\n",
              "      <td>1.000000</td>\n",
              "      <td>0.495954</td>\n",
              "      <td>0.722254</td>\n",
              "      <td>-5.720868</td>\n",
              "      <td>0.218885</td>\n",
              "      <td>2.361532</td>\n",
              "      <td>0.194052</td>\n",
              "    </tr>\n",
              "    <tr>\n",
              "      <th>75%</th>\n",
              "      <td>182.769000</td>\n",
              "      <td>224.205500</td>\n",
              "      <td>140.018500</td>\n",
              "      <td>0.007365</td>\n",
              "      <td>0.000060</td>\n",
              "      <td>0.003835</td>\n",
              "      <td>0.003955</td>\n",
              "      <td>0.011505</td>\n",
              "      <td>0.037885</td>\n",
              "      <td>0.350000</td>\n",
              "      <td>0.020265</td>\n",
              "      <td>0.022380</td>\n",
              "      <td>0.029400</td>\n",
              "      <td>0.060795</td>\n",
              "      <td>0.025640</td>\n",
              "      <td>25.075500</td>\n",
              "      <td>1.000000</td>\n",
              "      <td>0.587562</td>\n",
              "      <td>0.761881</td>\n",
              "      <td>-5.046192</td>\n",
              "      <td>0.279234</td>\n",
              "      <td>2.636456</td>\n",
              "      <td>0.252980</td>\n",
              "    </tr>\n",
              "    <tr>\n",
              "      <th>max</th>\n",
              "      <td>260.105000</td>\n",
              "      <td>592.030000</td>\n",
              "      <td>239.170000</td>\n",
              "      <td>0.033160</td>\n",
              "      <td>0.000260</td>\n",
              "      <td>0.021440</td>\n",
              "      <td>0.019580</td>\n",
              "      <td>0.064330</td>\n",
              "      <td>0.119080</td>\n",
              "      <td>1.302000</td>\n",
              "      <td>0.056470</td>\n",
              "      <td>0.079400</td>\n",
              "      <td>0.137780</td>\n",
              "      <td>0.169420</td>\n",
              "      <td>0.314820</td>\n",
              "      <td>33.047000</td>\n",
              "      <td>1.000000</td>\n",
              "      <td>0.685151</td>\n",
              "      <td>0.825288</td>\n",
              "      <td>-2.434031</td>\n",
              "      <td>0.450493</td>\n",
              "      <td>3.671155</td>\n",
              "      <td>0.527367</td>\n",
              "    </tr>\n",
              "  </tbody>\n",
              "</table>\n",
              "</div>"
            ],
            "text/plain": [
              "       MDVP:Fo(Hz)  MDVP:Fhi(Hz)  ...          D2         PPE\n",
              "count   195.000000    195.000000  ...  195.000000  195.000000\n",
              "mean    154.228641    197.104918  ...    2.381826    0.206552\n",
              "std      41.390065     91.491548  ...    0.382799    0.090119\n",
              "min      88.333000    102.145000  ...    1.423287    0.044539\n",
              "25%     117.572000    134.862500  ...    2.099125    0.137451\n",
              "50%     148.790000    175.829000  ...    2.361532    0.194052\n",
              "75%     182.769000    224.205500  ...    2.636456    0.252980\n",
              "max     260.105000    592.030000  ...    3.671155    0.527367\n",
              "\n",
              "[8 rows x 23 columns]"
            ]
          },
          "metadata": {
            "tags": []
          },
          "execution_count": 7
        }
      ]
    },
    {
      "cell_type": "code",
      "metadata": {
        "colab": {
          "base_uri": "https://localhost:8080/"
        },
        "id": "nK3fkqZQsVLT",
        "outputId": "ebac9b78-7456-4e82-a685-5d2cabb83977"
      },
      "source": [
        "d.info()"
      ],
      "execution_count": null,
      "outputs": [
        {
          "output_type": "stream",
          "text": [
            "<class 'pandas.core.frame.DataFrame'>\n",
            "RangeIndex: 195 entries, 0 to 194\n",
            "Data columns (total 24 columns):\n",
            " #   Column            Non-Null Count  Dtype  \n",
            "---  ------            --------------  -----  \n",
            " 0   name              195 non-null    object \n",
            " 1   MDVP:Fo(Hz)       195 non-null    float64\n",
            " 2   MDVP:Fhi(Hz)      195 non-null    float64\n",
            " 3   MDVP:Flo(Hz)      195 non-null    float64\n",
            " 4   MDVP:Jitter(%)    195 non-null    float64\n",
            " 5   MDVP:Jitter(Abs)  195 non-null    float64\n",
            " 6   MDVP:RAP          195 non-null    float64\n",
            " 7   MDVP:PPQ          195 non-null    float64\n",
            " 8   Jitter:DDP        195 non-null    float64\n",
            " 9   MDVP:Shimmer      195 non-null    float64\n",
            " 10  MDVP:Shimmer(dB)  195 non-null    float64\n",
            " 11  Shimmer:APQ3      195 non-null    float64\n",
            " 12  Shimmer:APQ5      195 non-null    float64\n",
            " 13  MDVP:APQ          195 non-null    float64\n",
            " 14  Shimmer:DDA       195 non-null    float64\n",
            " 15  NHR               195 non-null    float64\n",
            " 16  HNR               195 non-null    float64\n",
            " 17  status            195 non-null    int64  \n",
            " 18  RPDE              195 non-null    float64\n",
            " 19  DFA               195 non-null    float64\n",
            " 20  spread1           195 non-null    float64\n",
            " 21  spread2           195 non-null    float64\n",
            " 22  D2                195 non-null    float64\n",
            " 23  PPE               195 non-null    float64\n",
            "dtypes: float64(22), int64(1), object(1)\n",
            "memory usage: 36.7+ KB\n"
          ],
          "name": "stdout"
        }
      ]
    },
    {
      "cell_type": "code",
      "metadata": {
        "colab": {
          "base_uri": "https://localhost:8080/"
        },
        "id": "NMZeAYtusW5g",
        "outputId": "b444ea05-0e8f-47a0-b795-5aeff9e64064"
      },
      "source": [
        "d.nunique()"
      ],
      "execution_count": null,
      "outputs": [
        {
          "output_type": "execute_result",
          "data": {
            "text/plain": [
              "name                195\n",
              "MDVP:Fo(Hz)         195\n",
              "MDVP:Fhi(Hz)        195\n",
              "MDVP:Flo(Hz)        195\n",
              "MDVP:Jitter(%)      173\n",
              "MDVP:Jitter(Abs)     19\n",
              "MDVP:RAP            155\n",
              "MDVP:PPQ            165\n",
              "Jitter:DDP          180\n",
              "MDVP:Shimmer        188\n",
              "MDVP:Shimmer(dB)    149\n",
              "Shimmer:APQ3        184\n",
              "Shimmer:APQ5        189\n",
              "MDVP:APQ            189\n",
              "Shimmer:DDA         189\n",
              "NHR                 185\n",
              "HNR                 195\n",
              "status                2\n",
              "RPDE                195\n",
              "DFA                 195\n",
              "spread1             195\n",
              "spread2             194\n",
              "D2                  195\n",
              "PPE                 195\n",
              "dtype: int64"
            ]
          },
          "metadata": {
            "tags": []
          },
          "execution_count": 9
        }
      ]
    },
    {
      "cell_type": "markdown",
      "metadata": {
        "id": "UNcNbFrgsJB0"
      },
      "source": [
        "### Counting Number of people with the disease and without the disease"
      ]
    },
    {
      "cell_type": "code",
      "metadata": {
        "colab": {
          "base_uri": "https://localhost:8080/"
        },
        "id": "fv-DCs-ZrKyA",
        "outputId": "d8029cae-7907-430b-ddbb-600cf74d1b87"
      },
      "source": [
        "z=0\n",
        "o=0\n",
        "zero=[]\n",
        "one=[]\n",
        "for i in range (0,len(y)):\n",
        "  if y[i] == 0:\n",
        "    zero.append(y[i])\n",
        "    z=z+1\n",
        "  else:\n",
        "    one.append(y[i])\n",
        "    o=o+1\n",
        "print(\"Number of rows with status 0 : \", z)\n",
        "print(\"Number of rows with status 1 : \", o)"
      ],
      "execution_count": null,
      "outputs": [
        {
          "output_type": "stream",
          "text": [
            "Number of rows with status 0 :  48\n",
            "Number of rows with status 1 :  147\n"
          ],
          "name": "stdout"
        }
      ]
    },
    {
      "cell_type": "markdown",
      "metadata": {
        "id": "19XhcmC0sGX7"
      },
      "source": [
        "### Splitting the Data"
      ]
    },
    {
      "cell_type": "code",
      "metadata": {
        "id": "zfAvNE0OsFu3"
      },
      "source": [
        "from sklearn.model_selection import train_test_split\n",
        "X_train, X_test, y_train, y_test = train_test_split(x, y, test_size = 0.3, random_state = 0)"
      ],
      "execution_count": null,
      "outputs": []
    },
    {
      "cell_type": "markdown",
      "metadata": {
        "id": "F-k2K6qStu3F"
      },
      "source": [
        "### Min Max Scaler"
      ]
    },
    {
      "cell_type": "code",
      "metadata": {
        "id": "rxKgt0lBtwmI"
      },
      "source": [
        "from sklearn.preprocessing import MinMaxScaler\n",
        "scaler=MinMaxScaler((-1,1))\n",
        "x1=scaler.fit_transform(x)\n",
        "y1=y"
      ],
      "execution_count": null,
      "outputs": []
    },
    {
      "cell_type": "markdown",
      "metadata": {
        "id": "9PzvsQ5RqPhE"
      },
      "source": [
        "### XG Boost"
      ]
    },
    {
      "cell_type": "code",
      "metadata": {
        "colab": {
          "base_uri": "https://localhost:8080/"
        },
        "id": "NFCBgUmgpmfQ",
        "outputId": "65e605af-40a9-4878-e056-7b1d143e1291"
      },
      "source": [
        "from xgboost import XGBClassifier\n",
        "xg = XGBClassifier()\n",
        "xg.fit(X_train,y_train)"
      ],
      "execution_count": null,
      "outputs": [
        {
          "output_type": "execute_result",
          "data": {
            "text/plain": [
              "XGBClassifier(base_score=0.5, booster='gbtree', colsample_bylevel=1,\n",
              "              colsample_bynode=1, colsample_bytree=1, gamma=0,\n",
              "              learning_rate=0.1, max_delta_step=0, max_depth=3,\n",
              "              min_child_weight=1, missing=None, n_estimators=100, n_jobs=1,\n",
              "              nthread=None, objective='binary:logistic', random_state=0,\n",
              "              reg_alpha=0, reg_lambda=1, scale_pos_weight=1, seed=None,\n",
              "              silent=None, subsample=1, verbosity=1)"
            ]
          },
          "metadata": {
            "tags": []
          },
          "execution_count": 13
        }
      ]
    },
    {
      "cell_type": "code",
      "metadata": {
        "id": "1eCR1Q9stKk5"
      },
      "source": [
        "y_pred=xg.predict(X_test)"
      ],
      "execution_count": null,
      "outputs": []
    },
    {
      "cell_type": "markdown",
      "metadata": {
        "id": "XJtObcfGv7bJ"
      },
      "source": [
        "#### Scoring the XG Boost"
      ]
    },
    {
      "cell_type": "code",
      "metadata": {
        "colab": {
          "base_uri": "https://localhost:8080/"
        },
        "id": "ANSwXGgutWdu",
        "outputId": "0623d468-0829-426d-939a-d59ac9c601c8"
      },
      "source": [
        "from sklearn.metrics import r2_score\n",
        "r2_xg = r2_score(y_test,y_pred)\n",
        "print(r2_xg)"
      ],
      "execution_count": null,
      "outputs": [
        {
          "output_type": "stream",
          "text": [
            "0.802675585284281\n"
          ],
          "name": "stdout"
        }
      ]
    },
    {
      "cell_type": "code",
      "metadata": {
        "colab": {
          "base_uri": "https://localhost:8080/"
        },
        "id": "oG1pwN7Xu5x4",
        "outputId": "61a80bd9-b4fc-41ba-9161-cb886ef0395d"
      },
      "source": [
        "from sklearn.metrics import confusion_matrix\n",
        "cm_xg = confusion_matrix(y_test,y_pred)\n",
        "print(cm_xg)"
      ],
      "execution_count": null,
      "outputs": [
        {
          "output_type": "stream",
          "text": [
            "[[13  0]\n",
            " [ 2 44]]\n"
          ],
          "name": "stdout"
        }
      ]
    },
    {
      "cell_type": "code",
      "metadata": {
        "colab": {
          "base_uri": "https://localhost:8080/"
        },
        "id": "A1K8hGM_vMaw",
        "outputId": "42849bfa-10b6-4b44-bba3-4d5246c37567"
      },
      "source": [
        "from sklearn.metrics import accuracy_score\n",
        "ac_xg=accuracy_score(y_test,y_pred)\n",
        "print(ac_xg)"
      ],
      "execution_count": null,
      "outputs": [
        {
          "output_type": "stream",
          "text": [
            "0.9661016949152542\n"
          ],
          "name": "stdout"
        }
      ]
    },
    {
      "cell_type": "markdown",
      "metadata": {
        "id": "G3pp7kebX_La"
      },
      "source": [
        "### CatBoost"
      ]
    },
    {
      "cell_type": "code",
      "metadata": {
        "colab": {
          "base_uri": "https://localhost:8080/"
        },
        "id": "0-1R84fKX-16",
        "outputId": "c5d68fb9-2a9e-4ee8-e9be-d74396d154fa"
      },
      "source": [
        "from catboost import CatBoostClassifier\n",
        "cbc = CatBoostClassifier()\n",
        "cbc.fit(X_train,y_train)"
      ],
      "execution_count": null,
      "outputs": [
        {
          "output_type": "stream",
          "text": [
            "Learning rate set to 0.004395\n",
            "0:\tlearn: 0.6883496\ttotal: 53.8ms\tremaining: 53.8s\n",
            "1:\tlearn: 0.6842092\ttotal: 58ms\tremaining: 28.9s\n",
            "2:\tlearn: 0.6794597\ttotal: 61.9ms\tremaining: 20.6s\n",
            "3:\tlearn: 0.6759486\ttotal: 65.8ms\tremaining: 16.4s\n",
            "4:\tlearn: 0.6724471\ttotal: 69.5ms\tremaining: 13.8s\n",
            "5:\tlearn: 0.6688168\ttotal: 73.3ms\tremaining: 12.1s\n",
            "6:\tlearn: 0.6646229\ttotal: 77.7ms\tremaining: 11s\n",
            "7:\tlearn: 0.6613173\ttotal: 81.4ms\tremaining: 10.1s\n",
            "8:\tlearn: 0.6576570\ttotal: 84.9ms\tremaining: 9.35s\n",
            "9:\tlearn: 0.6526615\ttotal: 88.3ms\tremaining: 8.74s\n",
            "10:\tlearn: 0.6489789\ttotal: 91.9ms\tremaining: 8.26s\n",
            "11:\tlearn: 0.6457732\ttotal: 95.4ms\tremaining: 7.86s\n",
            "12:\tlearn: 0.6414525\ttotal: 99.4ms\tremaining: 7.55s\n",
            "13:\tlearn: 0.6385136\ttotal: 103ms\tremaining: 7.25s\n",
            "14:\tlearn: 0.6352351\ttotal: 106ms\tremaining: 6.98s\n",
            "15:\tlearn: 0.6311216\ttotal: 110ms\tremaining: 6.74s\n",
            "16:\tlearn: 0.6274029\ttotal: 113ms\tremaining: 6.53s\n",
            "17:\tlearn: 0.6246232\ttotal: 117ms\tremaining: 6.36s\n",
            "18:\tlearn: 0.6207998\ttotal: 120ms\tremaining: 6.2s\n",
            "19:\tlearn: 0.6168004\ttotal: 124ms\tremaining: 6.06s\n",
            "20:\tlearn: 0.6128030\ttotal: 127ms\tremaining: 5.93s\n",
            "21:\tlearn: 0.6087613\ttotal: 131ms\tremaining: 5.81s\n",
            "22:\tlearn: 0.6049690\ttotal: 134ms\tremaining: 5.7s\n",
            "23:\tlearn: 0.6017475\ttotal: 139ms\tremaining: 5.63s\n",
            "24:\tlearn: 0.5980228\ttotal: 142ms\tremaining: 5.55s\n",
            "25:\tlearn: 0.5934905\ttotal: 146ms\tremaining: 5.46s\n",
            "26:\tlearn: 0.5893613\ttotal: 149ms\tremaining: 5.37s\n",
            "27:\tlearn: 0.5862922\ttotal: 153ms\tremaining: 5.3s\n",
            "28:\tlearn: 0.5827903\ttotal: 156ms\tremaining: 5.23s\n",
            "29:\tlearn: 0.5797920\ttotal: 160ms\tremaining: 5.18s\n",
            "30:\tlearn: 0.5771679\ttotal: 164ms\tremaining: 5.13s\n",
            "31:\tlearn: 0.5744741\ttotal: 168ms\tremaining: 5.09s\n",
            "32:\tlearn: 0.5709670\ttotal: 172ms\tremaining: 5.04s\n",
            "33:\tlearn: 0.5670726\ttotal: 176ms\tremaining: 5s\n",
            "34:\tlearn: 0.5640322\ttotal: 180ms\tremaining: 4.96s\n",
            "35:\tlearn: 0.5614473\ttotal: 189ms\tremaining: 5.05s\n",
            "36:\tlearn: 0.5577367\ttotal: 192ms\tremaining: 5s\n",
            "37:\tlearn: 0.5549447\ttotal: 197ms\tremaining: 5s\n",
            "38:\tlearn: 0.5511551\ttotal: 202ms\tremaining: 4.97s\n",
            "39:\tlearn: 0.5481688\ttotal: 206ms\tremaining: 4.94s\n",
            "40:\tlearn: 0.5449998\ttotal: 210ms\tremaining: 4.9s\n",
            "41:\tlearn: 0.5413870\ttotal: 213ms\tremaining: 4.87s\n",
            "42:\tlearn: 0.5384013\ttotal: 217ms\tremaining: 4.83s\n",
            "43:\tlearn: 0.5352069\ttotal: 221ms\tremaining: 4.81s\n",
            "44:\tlearn: 0.5323967\ttotal: 225ms\tremaining: 4.78s\n",
            "45:\tlearn: 0.5288467\ttotal: 229ms\tremaining: 4.75s\n",
            "46:\tlearn: 0.5247602\ttotal: 233ms\tremaining: 4.72s\n",
            "47:\tlearn: 0.5214149\ttotal: 237ms\tremaining: 4.7s\n",
            "48:\tlearn: 0.5189517\ttotal: 240ms\tremaining: 4.66s\n",
            "49:\tlearn: 0.5149258\ttotal: 244ms\tremaining: 4.64s\n",
            "50:\tlearn: 0.5122610\ttotal: 248ms\tremaining: 4.62s\n",
            "51:\tlearn: 0.5092588\ttotal: 255ms\tremaining: 4.65s\n",
            "52:\tlearn: 0.5064441\ttotal: 259ms\tremaining: 4.63s\n",
            "53:\tlearn: 0.5035656\ttotal: 263ms\tremaining: 4.6s\n",
            "54:\tlearn: 0.5007567\ttotal: 267ms\tremaining: 4.58s\n",
            "55:\tlearn: 0.4984273\ttotal: 270ms\tremaining: 4.55s\n",
            "56:\tlearn: 0.4961655\ttotal: 274ms\tremaining: 4.54s\n",
            "57:\tlearn: 0.4935909\ttotal: 278ms\tremaining: 4.52s\n",
            "58:\tlearn: 0.4913196\ttotal: 282ms\tremaining: 4.5s\n",
            "59:\tlearn: 0.4890880\ttotal: 286ms\tremaining: 4.47s\n",
            "60:\tlearn: 0.4869764\ttotal: 289ms\tremaining: 4.46s\n",
            "61:\tlearn: 0.4846503\ttotal: 295ms\tremaining: 4.46s\n",
            "62:\tlearn: 0.4825315\ttotal: 299ms\tremaining: 4.45s\n",
            "63:\tlearn: 0.4805800\ttotal: 303ms\tremaining: 4.43s\n",
            "64:\tlearn: 0.4783758\ttotal: 307ms\tremaining: 4.41s\n",
            "65:\tlearn: 0.4753528\ttotal: 311ms\tremaining: 4.4s\n",
            "66:\tlearn: 0.4727157\ttotal: 315ms\tremaining: 4.39s\n",
            "67:\tlearn: 0.4706366\ttotal: 319ms\tremaining: 4.37s\n",
            "68:\tlearn: 0.4676664\ttotal: 323ms\tremaining: 4.36s\n",
            "69:\tlearn: 0.4654132\ttotal: 327ms\tremaining: 4.35s\n",
            "70:\tlearn: 0.4634505\ttotal: 332ms\tremaining: 4.34s\n",
            "71:\tlearn: 0.4613649\ttotal: 336ms\tremaining: 4.32s\n",
            "72:\tlearn: 0.4594677\ttotal: 339ms\tremaining: 4.31s\n",
            "73:\tlearn: 0.4576022\ttotal: 343ms\tremaining: 4.29s\n",
            "74:\tlearn: 0.4556707\ttotal: 347ms\tremaining: 4.28s\n",
            "75:\tlearn: 0.4533796\ttotal: 351ms\tremaining: 4.27s\n",
            "76:\tlearn: 0.4514943\ttotal: 355ms\tremaining: 4.25s\n",
            "77:\tlearn: 0.4492640\ttotal: 359ms\tremaining: 4.24s\n",
            "78:\tlearn: 0.4467684\ttotal: 363ms\tremaining: 4.23s\n",
            "79:\tlearn: 0.4444529\ttotal: 367ms\tremaining: 4.22s\n",
            "80:\tlearn: 0.4416564\ttotal: 371ms\tremaining: 4.2s\n",
            "81:\tlearn: 0.4396296\ttotal: 374ms\tremaining: 4.19s\n",
            "82:\tlearn: 0.4369624\ttotal: 380ms\tremaining: 4.19s\n",
            "83:\tlearn: 0.4352756\ttotal: 388ms\tremaining: 4.23s\n",
            "84:\tlearn: 0.4329254\ttotal: 391ms\tremaining: 4.21s\n",
            "85:\tlearn: 0.4310788\ttotal: 395ms\tremaining: 4.2s\n",
            "86:\tlearn: 0.4290065\ttotal: 399ms\tremaining: 4.18s\n",
            "87:\tlearn: 0.4266202\ttotal: 403ms\tremaining: 4.17s\n",
            "88:\tlearn: 0.4241831\ttotal: 407ms\tremaining: 4.17s\n",
            "89:\tlearn: 0.4220026\ttotal: 411ms\tremaining: 4.15s\n",
            "90:\tlearn: 0.4207402\ttotal: 414ms\tremaining: 4.13s\n",
            "91:\tlearn: 0.4185884\ttotal: 417ms\tremaining: 4.12s\n",
            "92:\tlearn: 0.4163271\ttotal: 421ms\tremaining: 4.11s\n",
            "93:\tlearn: 0.4139865\ttotal: 426ms\tremaining: 4.1s\n",
            "94:\tlearn: 0.4116489\ttotal: 429ms\tremaining: 4.09s\n",
            "95:\tlearn: 0.4097328\ttotal: 433ms\tremaining: 4.08s\n",
            "96:\tlearn: 0.4083540\ttotal: 437ms\tremaining: 4.07s\n",
            "97:\tlearn: 0.4063324\ttotal: 440ms\tremaining: 4.05s\n",
            "98:\tlearn: 0.4042913\ttotal: 444ms\tremaining: 4.04s\n",
            "99:\tlearn: 0.4020163\ttotal: 448ms\tremaining: 4.03s\n",
            "100:\tlearn: 0.4006417\ttotal: 452ms\tremaining: 4.02s\n",
            "101:\tlearn: 0.3980798\ttotal: 456ms\tremaining: 4.01s\n",
            "102:\tlearn: 0.3957950\ttotal: 460ms\tremaining: 4s\n",
            "103:\tlearn: 0.3945467\ttotal: 464ms\tremaining: 4s\n",
            "104:\tlearn: 0.3929474\ttotal: 468ms\tremaining: 3.99s\n",
            "105:\tlearn: 0.3914150\ttotal: 471ms\tremaining: 3.98s\n",
            "106:\tlearn: 0.3900199\ttotal: 475ms\tremaining: 3.96s\n",
            "107:\tlearn: 0.3882706\ttotal: 479ms\tremaining: 3.96s\n",
            "108:\tlearn: 0.3864306\ttotal: 483ms\tremaining: 3.94s\n",
            "109:\tlearn: 0.3845855\ttotal: 486ms\tremaining: 3.94s\n",
            "110:\tlearn: 0.3829925\ttotal: 490ms\tremaining: 3.92s\n",
            "111:\tlearn: 0.3814050\ttotal: 494ms\tremaining: 3.92s\n",
            "112:\tlearn: 0.3800625\ttotal: 498ms\tremaining: 3.91s\n",
            "113:\tlearn: 0.3784647\ttotal: 502ms\tremaining: 3.9s\n",
            "114:\tlearn: 0.3769856\ttotal: 507ms\tremaining: 3.9s\n",
            "115:\tlearn: 0.3753169\ttotal: 510ms\tremaining: 3.89s\n",
            "116:\tlearn: 0.3731093\ttotal: 514ms\tremaining: 3.88s\n",
            "117:\tlearn: 0.3716505\ttotal: 518ms\tremaining: 3.87s\n",
            "118:\tlearn: 0.3699331\ttotal: 522ms\tremaining: 3.86s\n",
            "119:\tlearn: 0.3681877\ttotal: 526ms\tremaining: 3.85s\n",
            "120:\tlearn: 0.3665328\ttotal: 529ms\tremaining: 3.85s\n",
            "121:\tlearn: 0.3646126\ttotal: 533ms\tremaining: 3.84s\n",
            "122:\tlearn: 0.3627965\ttotal: 537ms\tremaining: 3.83s\n",
            "123:\tlearn: 0.3606937\ttotal: 541ms\tremaining: 3.82s\n",
            "124:\tlearn: 0.3590344\ttotal: 545ms\tremaining: 3.81s\n",
            "125:\tlearn: 0.3577744\ttotal: 549ms\tremaining: 3.81s\n",
            "126:\tlearn: 0.3561669\ttotal: 553ms\tremaining: 3.8s\n",
            "127:\tlearn: 0.3547690\ttotal: 557ms\tremaining: 3.79s\n",
            "128:\tlearn: 0.3531513\ttotal: 560ms\tremaining: 3.78s\n",
            "129:\tlearn: 0.3510237\ttotal: 564ms\tremaining: 3.78s\n",
            "130:\tlearn: 0.3500460\ttotal: 568ms\tremaining: 3.77s\n",
            "131:\tlearn: 0.3482926\ttotal: 572ms\tremaining: 3.76s\n",
            "132:\tlearn: 0.3461710\ttotal: 578ms\tremaining: 3.77s\n",
            "133:\tlearn: 0.3444654\ttotal: 586ms\tremaining: 3.79s\n",
            "134:\tlearn: 0.3429546\ttotal: 591ms\tremaining: 3.79s\n",
            "135:\tlearn: 0.3413764\ttotal: 595ms\tremaining: 3.78s\n",
            "136:\tlearn: 0.3400549\ttotal: 598ms\tremaining: 3.77s\n",
            "137:\tlearn: 0.3384941\ttotal: 602ms\tremaining: 3.76s\n",
            "138:\tlearn: 0.3365514\ttotal: 606ms\tremaining: 3.76s\n",
            "139:\tlearn: 0.3351597\ttotal: 611ms\tremaining: 3.75s\n",
            "140:\tlearn: 0.3332726\ttotal: 615ms\tremaining: 3.75s\n",
            "141:\tlearn: 0.3314221\ttotal: 619ms\tremaining: 3.74s\n",
            "142:\tlearn: 0.3296277\ttotal: 623ms\tremaining: 3.73s\n",
            "143:\tlearn: 0.3279803\ttotal: 627ms\tremaining: 3.73s\n",
            "144:\tlearn: 0.3266029\ttotal: 631ms\tremaining: 3.72s\n",
            "145:\tlearn: 0.3249222\ttotal: 636ms\tremaining: 3.72s\n",
            "146:\tlearn: 0.3236263\ttotal: 640ms\tremaining: 3.71s\n",
            "147:\tlearn: 0.3220062\ttotal: 644ms\tremaining: 3.71s\n",
            "148:\tlearn: 0.3202503\ttotal: 648ms\tremaining: 3.7s\n",
            "149:\tlearn: 0.3190195\ttotal: 652ms\tremaining: 3.69s\n",
            "150:\tlearn: 0.3178629\ttotal: 656ms\tremaining: 3.69s\n",
            "151:\tlearn: 0.3164747\ttotal: 660ms\tremaining: 3.68s\n",
            "152:\tlearn: 0.3151924\ttotal: 664ms\tremaining: 3.68s\n",
            "153:\tlearn: 0.3140104\ttotal: 668ms\tremaining: 3.67s\n",
            "154:\tlearn: 0.3124674\ttotal: 673ms\tremaining: 3.67s\n",
            "155:\tlearn: 0.3107518\ttotal: 677ms\tremaining: 3.66s\n",
            "156:\tlearn: 0.3098058\ttotal: 680ms\tremaining: 3.65s\n",
            "157:\tlearn: 0.3084202\ttotal: 684ms\tremaining: 3.65s\n",
            "158:\tlearn: 0.3069703\ttotal: 688ms\tremaining: 3.64s\n",
            "159:\tlearn: 0.3057365\ttotal: 692ms\tremaining: 3.63s\n",
            "160:\tlearn: 0.3043802\ttotal: 698ms\tremaining: 3.64s\n",
            "161:\tlearn: 0.3031306\ttotal: 702ms\tremaining: 3.63s\n",
            "162:\tlearn: 0.3018671\ttotal: 706ms\tremaining: 3.62s\n",
            "163:\tlearn: 0.3009241\ttotal: 710ms\tremaining: 3.62s\n",
            "164:\tlearn: 0.2999701\ttotal: 714ms\tremaining: 3.61s\n",
            "165:\tlearn: 0.2987278\ttotal: 717ms\tremaining: 3.6s\n",
            "166:\tlearn: 0.2976111\ttotal: 721ms\tremaining: 3.6s\n",
            "167:\tlearn: 0.2970340\ttotal: 725ms\tremaining: 3.59s\n",
            "168:\tlearn: 0.2958954\ttotal: 729ms\tremaining: 3.58s\n",
            "169:\tlearn: 0.2949330\ttotal: 733ms\tremaining: 3.58s\n",
            "170:\tlearn: 0.2935363\ttotal: 736ms\tremaining: 3.57s\n",
            "171:\tlearn: 0.2924552\ttotal: 740ms\tremaining: 3.56s\n",
            "172:\tlearn: 0.2915138\ttotal: 746ms\tremaining: 3.57s\n",
            "173:\tlearn: 0.2898756\ttotal: 750ms\tremaining: 3.56s\n",
            "174:\tlearn: 0.2885545\ttotal: 754ms\tremaining: 3.56s\n",
            "175:\tlearn: 0.2872381\ttotal: 758ms\tremaining: 3.55s\n",
            "176:\tlearn: 0.2861433\ttotal: 762ms\tremaining: 3.54s\n",
            "177:\tlearn: 0.2847019\ttotal: 766ms\tremaining: 3.54s\n",
            "178:\tlearn: 0.2835550\ttotal: 770ms\tremaining: 3.53s\n",
            "179:\tlearn: 0.2824939\ttotal: 777ms\tremaining: 3.54s\n",
            "180:\tlearn: 0.2813152\ttotal: 793ms\tremaining: 3.59s\n",
            "181:\tlearn: 0.2799448\ttotal: 804ms\tremaining: 3.61s\n",
            "182:\tlearn: 0.2785535\ttotal: 808ms\tremaining: 3.61s\n",
            "183:\tlearn: 0.2773151\ttotal: 812ms\tremaining: 3.6s\n",
            "184:\tlearn: 0.2761967\ttotal: 817ms\tremaining: 3.6s\n",
            "185:\tlearn: 0.2749735\ttotal: 821ms\tremaining: 3.59s\n",
            "186:\tlearn: 0.2739294\ttotal: 825ms\tremaining: 3.59s\n",
            "187:\tlearn: 0.2727601\ttotal: 829ms\tremaining: 3.58s\n",
            "188:\tlearn: 0.2718410\ttotal: 834ms\tremaining: 3.58s\n",
            "189:\tlearn: 0.2708394\ttotal: 841ms\tremaining: 3.59s\n",
            "190:\tlearn: 0.2698730\ttotal: 849ms\tremaining: 3.6s\n",
            "191:\tlearn: 0.2689530\ttotal: 862ms\tremaining: 3.63s\n",
            "192:\tlearn: 0.2680494\ttotal: 866ms\tremaining: 3.62s\n",
            "193:\tlearn: 0.2669715\ttotal: 872ms\tremaining: 3.62s\n",
            "194:\tlearn: 0.2660628\ttotal: 876ms\tremaining: 3.62s\n",
            "195:\tlearn: 0.2648354\ttotal: 881ms\tremaining: 3.61s\n",
            "196:\tlearn: 0.2635126\ttotal: 885ms\tremaining: 3.6s\n",
            "197:\tlearn: 0.2624725\ttotal: 889ms\tremaining: 3.6s\n",
            "198:\tlearn: 0.2613947\ttotal: 893ms\tremaining: 3.59s\n",
            "199:\tlearn: 0.2606646\ttotal: 900ms\tremaining: 3.6s\n",
            "200:\tlearn: 0.2595997\ttotal: 904ms\tremaining: 3.59s\n",
            "201:\tlearn: 0.2586790\ttotal: 908ms\tremaining: 3.59s\n",
            "202:\tlearn: 0.2577097\ttotal: 912ms\tremaining: 3.58s\n",
            "203:\tlearn: 0.2566563\ttotal: 916ms\tremaining: 3.57s\n",
            "204:\tlearn: 0.2553429\ttotal: 920ms\tremaining: 3.57s\n",
            "205:\tlearn: 0.2545692\ttotal: 924ms\tremaining: 3.56s\n",
            "206:\tlearn: 0.2532661\ttotal: 928ms\tremaining: 3.55s\n",
            "207:\tlearn: 0.2519202\ttotal: 931ms\tremaining: 3.55s\n",
            "208:\tlearn: 0.2506296\ttotal: 935ms\tremaining: 3.54s\n",
            "209:\tlearn: 0.2498516\ttotal: 940ms\tremaining: 3.53s\n",
            "210:\tlearn: 0.2487569\ttotal: 944ms\tremaining: 3.53s\n",
            "211:\tlearn: 0.2480130\ttotal: 948ms\tremaining: 3.52s\n",
            "212:\tlearn: 0.2471286\ttotal: 952ms\tremaining: 3.52s\n",
            "213:\tlearn: 0.2462785\ttotal: 956ms\tremaining: 3.51s\n",
            "214:\tlearn: 0.2453173\ttotal: 960ms\tremaining: 3.51s\n",
            "215:\tlearn: 0.2444258\ttotal: 965ms\tremaining: 3.5s\n",
            "216:\tlearn: 0.2436359\ttotal: 969ms\tremaining: 3.49s\n",
            "217:\tlearn: 0.2429377\ttotal: 980ms\tremaining: 3.52s\n",
            "218:\tlearn: 0.2420872\ttotal: 984ms\tremaining: 3.51s\n",
            "219:\tlearn: 0.2413177\ttotal: 988ms\tremaining: 3.5s\n",
            "220:\tlearn: 0.2403236\ttotal: 992ms\tremaining: 3.5s\n",
            "221:\tlearn: 0.2391281\ttotal: 995ms\tremaining: 3.49s\n",
            "222:\tlearn: 0.2381852\ttotal: 999ms\tremaining: 3.48s\n",
            "223:\tlearn: 0.2377081\ttotal: 1s\tremaining: 3.47s\n",
            "224:\tlearn: 0.2369114\ttotal: 1.01s\tremaining: 3.47s\n",
            "225:\tlearn: 0.2360022\ttotal: 1.01s\tremaining: 3.46s\n",
            "226:\tlearn: 0.2350581\ttotal: 1.01s\tremaining: 3.46s\n",
            "227:\tlearn: 0.2340697\ttotal: 1.02s\tremaining: 3.45s\n",
            "228:\tlearn: 0.2331624\ttotal: 1.02s\tremaining: 3.44s\n",
            "229:\tlearn: 0.2325268\ttotal: 1.03s\tremaining: 3.44s\n",
            "230:\tlearn: 0.2317040\ttotal: 1.03s\tremaining: 3.43s\n",
            "231:\tlearn: 0.2307660\ttotal: 1.03s\tremaining: 3.42s\n",
            "232:\tlearn: 0.2299118\ttotal: 1.04s\tremaining: 3.42s\n",
            "233:\tlearn: 0.2288855\ttotal: 1.04s\tremaining: 3.41s\n",
            "234:\tlearn: 0.2282887\ttotal: 1.05s\tremaining: 3.4s\n",
            "235:\tlearn: 0.2274289\ttotal: 1.05s\tremaining: 3.4s\n",
            "236:\tlearn: 0.2267003\ttotal: 1.05s\tremaining: 3.39s\n",
            "237:\tlearn: 0.2257280\ttotal: 1.06s\tremaining: 3.39s\n",
            "238:\tlearn: 0.2250647\ttotal: 1.06s\tremaining: 3.38s\n",
            "239:\tlearn: 0.2241825\ttotal: 1.07s\tremaining: 3.38s\n",
            "240:\tlearn: 0.2237584\ttotal: 1.07s\tremaining: 3.37s\n",
            "241:\tlearn: 0.2228413\ttotal: 1.07s\tremaining: 3.36s\n",
            "242:\tlearn: 0.2221280\ttotal: 1.08s\tremaining: 3.36s\n",
            "243:\tlearn: 0.2212684\ttotal: 1.08s\tremaining: 3.35s\n",
            "244:\tlearn: 0.2205108\ttotal: 1.08s\tremaining: 3.35s\n",
            "245:\tlearn: 0.2194023\ttotal: 1.09s\tremaining: 3.34s\n",
            "246:\tlearn: 0.2183649\ttotal: 1.09s\tremaining: 3.33s\n",
            "247:\tlearn: 0.2174377\ttotal: 1.1s\tremaining: 3.33s\n",
            "248:\tlearn: 0.2167786\ttotal: 1.1s\tremaining: 3.32s\n",
            "249:\tlearn: 0.2163906\ttotal: 1.1s\tremaining: 3.32s\n",
            "250:\tlearn: 0.2157046\ttotal: 1.11s\tremaining: 3.31s\n",
            "251:\tlearn: 0.2148593\ttotal: 1.11s\tremaining: 3.31s\n",
            "252:\tlearn: 0.2141033\ttotal: 1.12s\tremaining: 3.3s\n",
            "253:\tlearn: 0.2135886\ttotal: 1.12s\tremaining: 3.3s\n",
            "254:\tlearn: 0.2126809\ttotal: 1.13s\tremaining: 3.3s\n",
            "255:\tlearn: 0.2119100\ttotal: 1.13s\tremaining: 3.29s\n",
            "256:\tlearn: 0.2111992\ttotal: 1.14s\tremaining: 3.29s\n",
            "257:\tlearn: 0.2105797\ttotal: 1.14s\tremaining: 3.28s\n",
            "258:\tlearn: 0.2098619\ttotal: 1.14s\tremaining: 3.27s\n",
            "259:\tlearn: 0.2091840\ttotal: 1.15s\tremaining: 3.27s\n",
            "260:\tlearn: 0.2083596\ttotal: 1.15s\tremaining: 3.26s\n",
            "261:\tlearn: 0.2078576\ttotal: 1.16s\tremaining: 3.25s\n",
            "262:\tlearn: 0.2071142\ttotal: 1.16s\tremaining: 3.25s\n",
            "263:\tlearn: 0.2063415\ttotal: 1.16s\tremaining: 3.25s\n",
            "264:\tlearn: 0.2056279\ttotal: 1.17s\tremaining: 3.24s\n",
            "265:\tlearn: 0.2050962\ttotal: 1.18s\tremaining: 3.25s\n",
            "266:\tlearn: 0.2042743\ttotal: 1.18s\tremaining: 3.25s\n",
            "267:\tlearn: 0.2036616\ttotal: 1.19s\tremaining: 3.24s\n",
            "268:\tlearn: 0.2028319\ttotal: 1.19s\tremaining: 3.23s\n",
            "269:\tlearn: 0.2019921\ttotal: 1.19s\tremaining: 3.23s\n",
            "270:\tlearn: 0.2014452\ttotal: 1.2s\tremaining: 3.23s\n",
            "271:\tlearn: 0.2006643\ttotal: 1.2s\tremaining: 3.22s\n",
            "272:\tlearn: 0.2000100\ttotal: 1.21s\tremaining: 3.21s\n",
            "273:\tlearn: 0.1992186\ttotal: 1.21s\tremaining: 3.21s\n",
            "274:\tlearn: 0.1984790\ttotal: 1.22s\tremaining: 3.2s\n",
            "275:\tlearn: 0.1980658\ttotal: 1.22s\tremaining: 3.2s\n",
            "276:\tlearn: 0.1972956\ttotal: 1.22s\tremaining: 3.19s\n",
            "277:\tlearn: 0.1965664\ttotal: 1.23s\tremaining: 3.19s\n",
            "278:\tlearn: 0.1961884\ttotal: 1.23s\tremaining: 3.18s\n",
            "279:\tlearn: 0.1954441\ttotal: 1.23s\tremaining: 3.17s\n",
            "280:\tlearn: 0.1945469\ttotal: 1.24s\tremaining: 3.17s\n",
            "281:\tlearn: 0.1937270\ttotal: 1.24s\tremaining: 3.16s\n",
            "282:\tlearn: 0.1926846\ttotal: 1.25s\tremaining: 3.16s\n",
            "283:\tlearn: 0.1919331\ttotal: 1.25s\tremaining: 3.15s\n",
            "284:\tlearn: 0.1914450\ttotal: 1.25s\tremaining: 3.15s\n",
            "285:\tlearn: 0.1908688\ttotal: 1.26s\tremaining: 3.14s\n",
            "286:\tlearn: 0.1902903\ttotal: 1.26s\tremaining: 3.13s\n",
            "287:\tlearn: 0.1897876\ttotal: 1.26s\tremaining: 3.13s\n",
            "288:\tlearn: 0.1894973\ttotal: 1.27s\tremaining: 3.12s\n",
            "289:\tlearn: 0.1888686\ttotal: 1.27s\tremaining: 3.12s\n",
            "290:\tlearn: 0.1882166\ttotal: 1.28s\tremaining: 3.11s\n",
            "291:\tlearn: 0.1875445\ttotal: 1.28s\tremaining: 3.11s\n",
            "292:\tlearn: 0.1867228\ttotal: 1.28s\tremaining: 3.1s\n",
            "293:\tlearn: 0.1861510\ttotal: 1.29s\tremaining: 3.1s\n",
            "294:\tlearn: 0.1856081\ttotal: 1.29s\tremaining: 3.09s\n",
            "295:\tlearn: 0.1849312\ttotal: 1.3s\tremaining: 3.08s\n",
            "296:\tlearn: 0.1843594\ttotal: 1.3s\tremaining: 3.08s\n",
            "297:\tlearn: 0.1838079\ttotal: 1.3s\tremaining: 3.07s\n",
            "298:\tlearn: 0.1830466\ttotal: 1.31s\tremaining: 3.07s\n",
            "299:\tlearn: 0.1826131\ttotal: 1.31s\tremaining: 3.06s\n",
            "300:\tlearn: 0.1821614\ttotal: 1.32s\tremaining: 3.06s\n",
            "301:\tlearn: 0.1814109\ttotal: 1.32s\tremaining: 3.05s\n",
            "302:\tlearn: 0.1805251\ttotal: 1.32s\tremaining: 3.05s\n",
            "303:\tlearn: 0.1799377\ttotal: 1.33s\tremaining: 3.04s\n",
            "304:\tlearn: 0.1790923\ttotal: 1.33s\tremaining: 3.04s\n",
            "305:\tlearn: 0.1785240\ttotal: 1.34s\tremaining: 3.03s\n",
            "306:\tlearn: 0.1776909\ttotal: 1.34s\tremaining: 3.03s\n",
            "307:\tlearn: 0.1773320\ttotal: 1.36s\tremaining: 3.05s\n",
            "308:\tlearn: 0.1765880\ttotal: 1.36s\tremaining: 3.05s\n",
            "309:\tlearn: 0.1759610\ttotal: 1.37s\tremaining: 3.04s\n",
            "310:\tlearn: 0.1753955\ttotal: 1.37s\tremaining: 3.04s\n",
            "311:\tlearn: 0.1748917\ttotal: 1.38s\tremaining: 3.05s\n",
            "312:\tlearn: 0.1742823\ttotal: 1.39s\tremaining: 3.05s\n",
            "313:\tlearn: 0.1738682\ttotal: 1.4s\tremaining: 3.06s\n",
            "314:\tlearn: 0.1734520\ttotal: 1.41s\tremaining: 3.06s\n",
            "315:\tlearn: 0.1728828\ttotal: 1.41s\tremaining: 3.05s\n",
            "316:\tlearn: 0.1724456\ttotal: 1.41s\tremaining: 3.04s\n",
            "317:\tlearn: 0.1718245\ttotal: 1.42s\tremaining: 3.04s\n",
            "318:\tlearn: 0.1713076\ttotal: 1.42s\tremaining: 3.03s\n",
            "319:\tlearn: 0.1709404\ttotal: 1.43s\tremaining: 3.03s\n",
            "320:\tlearn: 0.1704378\ttotal: 1.43s\tremaining: 3.02s\n",
            "321:\tlearn: 0.1698649\ttotal: 1.44s\tremaining: 3.02s\n",
            "322:\tlearn: 0.1692056\ttotal: 1.44s\tremaining: 3.02s\n",
            "323:\tlearn: 0.1687598\ttotal: 1.44s\tremaining: 3.01s\n",
            "324:\tlearn: 0.1680693\ttotal: 1.45s\tremaining: 3.01s\n",
            "325:\tlearn: 0.1675432\ttotal: 1.45s\tremaining: 3s\n",
            "326:\tlearn: 0.1669319\ttotal: 1.46s\tremaining: 3s\n",
            "327:\tlearn: 0.1662725\ttotal: 1.46s\tremaining: 2.99s\n",
            "328:\tlearn: 0.1657127\ttotal: 1.46s\tremaining: 2.98s\n",
            "329:\tlearn: 0.1651844\ttotal: 1.47s\tremaining: 2.98s\n",
            "330:\tlearn: 0.1648171\ttotal: 1.47s\tremaining: 2.97s\n",
            "331:\tlearn: 0.1642709\ttotal: 1.48s\tremaining: 2.97s\n",
            "332:\tlearn: 0.1637955\ttotal: 1.48s\tremaining: 2.96s\n",
            "333:\tlearn: 0.1632191\ttotal: 1.48s\tremaining: 2.96s\n",
            "334:\tlearn: 0.1626830\ttotal: 1.49s\tremaining: 2.95s\n",
            "335:\tlearn: 0.1623435\ttotal: 1.49s\tremaining: 2.95s\n",
            "336:\tlearn: 0.1620383\ttotal: 1.5s\tremaining: 2.94s\n",
            "337:\tlearn: 0.1616384\ttotal: 1.5s\tremaining: 2.94s\n",
            "338:\tlearn: 0.1612224\ttotal: 1.5s\tremaining: 2.93s\n",
            "339:\tlearn: 0.1605532\ttotal: 1.51s\tremaining: 2.93s\n",
            "340:\tlearn: 0.1601371\ttotal: 1.51s\tremaining: 2.92s\n",
            "341:\tlearn: 0.1598682\ttotal: 1.51s\tremaining: 2.92s\n",
            "342:\tlearn: 0.1595588\ttotal: 1.52s\tremaining: 2.91s\n",
            "343:\tlearn: 0.1590505\ttotal: 1.52s\tremaining: 2.9s\n",
            "344:\tlearn: 0.1584827\ttotal: 1.53s\tremaining: 2.9s\n",
            "345:\tlearn: 0.1579762\ttotal: 1.53s\tremaining: 2.89s\n",
            "346:\tlearn: 0.1573978\ttotal: 1.53s\tremaining: 2.89s\n",
            "347:\tlearn: 0.1568495\ttotal: 1.54s\tremaining: 2.88s\n",
            "348:\tlearn: 0.1564399\ttotal: 1.54s\tremaining: 2.88s\n",
            "349:\tlearn: 0.1559238\ttotal: 1.55s\tremaining: 2.87s\n",
            "350:\tlearn: 0.1552313\ttotal: 1.55s\tremaining: 2.87s\n",
            "351:\tlearn: 0.1548036\ttotal: 1.55s\tremaining: 2.86s\n",
            "352:\tlearn: 0.1541619\ttotal: 1.56s\tremaining: 2.86s\n",
            "353:\tlearn: 0.1538478\ttotal: 1.56s\tremaining: 2.86s\n",
            "354:\tlearn: 0.1534280\ttotal: 1.57s\tremaining: 2.86s\n",
            "355:\tlearn: 0.1530082\ttotal: 1.58s\tremaining: 2.86s\n",
            "356:\tlearn: 0.1525980\ttotal: 1.58s\tremaining: 2.85s\n",
            "357:\tlearn: 0.1521620\ttotal: 1.59s\tremaining: 2.85s\n",
            "358:\tlearn: 0.1517076\ttotal: 1.59s\tremaining: 2.84s\n",
            "359:\tlearn: 0.1512389\ttotal: 1.59s\tremaining: 2.84s\n",
            "360:\tlearn: 0.1506922\ttotal: 1.6s\tremaining: 2.83s\n",
            "361:\tlearn: 0.1500385\ttotal: 1.6s\tremaining: 2.83s\n",
            "362:\tlearn: 0.1494528\ttotal: 1.61s\tremaining: 2.82s\n",
            "363:\tlearn: 0.1489446\ttotal: 1.61s\tremaining: 2.81s\n",
            "364:\tlearn: 0.1485136\ttotal: 1.61s\tremaining: 2.81s\n",
            "365:\tlearn: 0.1481250\ttotal: 1.62s\tremaining: 2.8s\n",
            "366:\tlearn: 0.1477054\ttotal: 1.62s\tremaining: 2.8s\n",
            "367:\tlearn: 0.1472544\ttotal: 1.63s\tremaining: 2.79s\n",
            "368:\tlearn: 0.1466871\ttotal: 1.63s\tremaining: 2.79s\n",
            "369:\tlearn: 0.1463759\ttotal: 1.63s\tremaining: 2.78s\n",
            "370:\tlearn: 0.1459677\ttotal: 1.65s\tremaining: 2.79s\n",
            "371:\tlearn: 0.1456210\ttotal: 1.65s\tremaining: 2.79s\n",
            "372:\tlearn: 0.1451428\ttotal: 1.65s\tremaining: 2.78s\n",
            "373:\tlearn: 0.1447495\ttotal: 1.66s\tremaining: 2.77s\n",
            "374:\tlearn: 0.1442667\ttotal: 1.66s\tremaining: 2.77s\n",
            "375:\tlearn: 0.1437700\ttotal: 1.67s\tremaining: 2.76s\n",
            "376:\tlearn: 0.1432799\ttotal: 1.67s\tremaining: 2.76s\n",
            "377:\tlearn: 0.1428953\ttotal: 1.67s\tremaining: 2.75s\n",
            "378:\tlearn: 0.1424277\ttotal: 1.68s\tremaining: 2.75s\n",
            "379:\tlearn: 0.1419458\ttotal: 1.68s\tremaining: 2.74s\n",
            "380:\tlearn: 0.1415299\ttotal: 1.69s\tremaining: 2.74s\n",
            "381:\tlearn: 0.1412190\ttotal: 1.69s\tremaining: 2.74s\n",
            "382:\tlearn: 0.1409118\ttotal: 1.7s\tremaining: 2.73s\n",
            "383:\tlearn: 0.1404843\ttotal: 1.7s\tremaining: 2.73s\n",
            "384:\tlearn: 0.1401720\ttotal: 1.7s\tremaining: 2.72s\n",
            "385:\tlearn: 0.1397255\ttotal: 1.71s\tremaining: 2.71s\n",
            "386:\tlearn: 0.1393795\ttotal: 1.71s\tremaining: 2.71s\n",
            "387:\tlearn: 0.1390235\ttotal: 1.72s\tremaining: 2.71s\n",
            "388:\tlearn: 0.1385891\ttotal: 1.72s\tremaining: 2.7s\n",
            "389:\tlearn: 0.1382909\ttotal: 1.72s\tremaining: 2.7s\n",
            "390:\tlearn: 0.1380145\ttotal: 1.73s\tremaining: 2.69s\n",
            "391:\tlearn: 0.1376674\ttotal: 1.73s\tremaining: 2.69s\n",
            "392:\tlearn: 0.1372138\ttotal: 1.74s\tremaining: 2.68s\n",
            "393:\tlearn: 0.1367456\ttotal: 1.74s\tremaining: 2.68s\n",
            "394:\tlearn: 0.1362284\ttotal: 1.75s\tremaining: 2.69s\n",
            "395:\tlearn: 0.1357645\ttotal: 1.76s\tremaining: 2.69s\n",
            "396:\tlearn: 0.1353216\ttotal: 1.77s\tremaining: 2.69s\n",
            "397:\tlearn: 0.1349222\ttotal: 1.77s\tremaining: 2.68s\n",
            "398:\tlearn: 0.1344820\ttotal: 1.78s\tremaining: 2.68s\n",
            "399:\tlearn: 0.1341306\ttotal: 1.78s\tremaining: 2.67s\n",
            "400:\tlearn: 0.1337209\ttotal: 1.79s\tremaining: 2.67s\n",
            "401:\tlearn: 0.1333597\ttotal: 1.79s\tremaining: 2.66s\n",
            "402:\tlearn: 0.1329730\ttotal: 1.79s\tremaining: 2.66s\n",
            "403:\tlearn: 0.1324442\ttotal: 1.8s\tremaining: 2.65s\n",
            "404:\tlearn: 0.1319635\ttotal: 1.8s\tremaining: 2.65s\n",
            "405:\tlearn: 0.1315701\ttotal: 1.81s\tremaining: 2.64s\n",
            "406:\tlearn: 0.1312500\ttotal: 1.81s\tremaining: 2.64s\n",
            "407:\tlearn: 0.1309692\ttotal: 1.81s\tremaining: 2.63s\n",
            "408:\tlearn: 0.1304853\ttotal: 1.82s\tremaining: 2.63s\n",
            "409:\tlearn: 0.1301386\ttotal: 1.82s\tremaining: 2.62s\n",
            "410:\tlearn: 0.1297420\ttotal: 1.83s\tremaining: 2.62s\n",
            "411:\tlearn: 0.1295082\ttotal: 1.83s\tremaining: 2.61s\n",
            "412:\tlearn: 0.1291794\ttotal: 1.83s\tremaining: 2.61s\n",
            "413:\tlearn: 0.1288002\ttotal: 1.84s\tremaining: 2.6s\n",
            "414:\tlearn: 0.1285424\ttotal: 1.84s\tremaining: 2.6s\n",
            "415:\tlearn: 0.1281555\ttotal: 1.84s\tremaining: 2.59s\n",
            "416:\tlearn: 0.1279056\ttotal: 1.85s\tremaining: 2.59s\n",
            "417:\tlearn: 0.1275581\ttotal: 1.86s\tremaining: 2.58s\n",
            "418:\tlearn: 0.1272168\ttotal: 1.86s\tremaining: 2.58s\n",
            "419:\tlearn: 0.1268254\ttotal: 1.86s\tremaining: 2.57s\n",
            "420:\tlearn: 0.1265293\ttotal: 1.87s\tremaining: 2.57s\n",
            "421:\tlearn: 0.1263236\ttotal: 1.87s\tremaining: 2.56s\n",
            "422:\tlearn: 0.1259107\ttotal: 1.88s\tremaining: 2.56s\n",
            "423:\tlearn: 0.1256028\ttotal: 1.88s\tremaining: 2.56s\n",
            "424:\tlearn: 0.1252986\ttotal: 1.89s\tremaining: 2.55s\n",
            "425:\tlearn: 0.1249299\ttotal: 1.89s\tremaining: 2.55s\n",
            "426:\tlearn: 0.1244754\ttotal: 1.89s\tremaining: 2.54s\n",
            "427:\tlearn: 0.1240635\ttotal: 1.9s\tremaining: 2.54s\n",
            "428:\tlearn: 0.1237044\ttotal: 1.9s\tremaining: 2.53s\n",
            "429:\tlearn: 0.1233860\ttotal: 1.91s\tremaining: 2.52s\n",
            "430:\tlearn: 0.1230947\ttotal: 1.91s\tremaining: 2.52s\n",
            "431:\tlearn: 0.1227075\ttotal: 1.91s\tremaining: 2.52s\n",
            "432:\tlearn: 0.1224050\ttotal: 1.92s\tremaining: 2.51s\n",
            "433:\tlearn: 0.1221349\ttotal: 1.92s\tremaining: 2.51s\n",
            "434:\tlearn: 0.1217241\ttotal: 1.93s\tremaining: 2.5s\n",
            "435:\tlearn: 0.1213516\ttotal: 1.93s\tremaining: 2.5s\n",
            "436:\tlearn: 0.1211984\ttotal: 1.93s\tremaining: 2.49s\n",
            "437:\tlearn: 0.1207301\ttotal: 1.94s\tremaining: 2.49s\n",
            "438:\tlearn: 0.1203630\ttotal: 1.94s\tremaining: 2.48s\n",
            "439:\tlearn: 0.1199648\ttotal: 1.95s\tremaining: 2.48s\n",
            "440:\tlearn: 0.1197116\ttotal: 1.95s\tremaining: 2.47s\n",
            "441:\tlearn: 0.1194357\ttotal: 1.96s\tremaining: 2.47s\n",
            "442:\tlearn: 0.1189784\ttotal: 1.97s\tremaining: 2.47s\n",
            "443:\tlearn: 0.1185326\ttotal: 1.97s\tremaining: 2.47s\n",
            "444:\tlearn: 0.1182548\ttotal: 1.98s\tremaining: 2.46s\n",
            "445:\tlearn: 0.1179856\ttotal: 1.98s\tremaining: 2.46s\n",
            "446:\tlearn: 0.1177357\ttotal: 1.98s\tremaining: 2.45s\n",
            "447:\tlearn: 0.1174602\ttotal: 1.99s\tremaining: 2.45s\n",
            "448:\tlearn: 0.1170403\ttotal: 1.99s\tremaining: 2.44s\n",
            "449:\tlearn: 0.1166690\ttotal: 2s\tremaining: 2.44s\n",
            "450:\tlearn: 0.1163821\ttotal: 2s\tremaining: 2.43s\n",
            "451:\tlearn: 0.1161232\ttotal: 2s\tremaining: 2.43s\n",
            "452:\tlearn: 0.1157731\ttotal: 2.01s\tremaining: 2.42s\n",
            "453:\tlearn: 0.1154443\ttotal: 2.01s\tremaining: 2.42s\n",
            "454:\tlearn: 0.1151754\ttotal: 2.01s\tremaining: 2.41s\n",
            "455:\tlearn: 0.1148722\ttotal: 2.02s\tremaining: 2.41s\n",
            "456:\tlearn: 0.1146200\ttotal: 2.02s\tremaining: 2.4s\n",
            "457:\tlearn: 0.1143097\ttotal: 2.03s\tremaining: 2.4s\n",
            "458:\tlearn: 0.1139632\ttotal: 2.03s\tremaining: 2.39s\n",
            "459:\tlearn: 0.1137415\ttotal: 2.03s\tremaining: 2.39s\n",
            "460:\tlearn: 0.1135156\ttotal: 2.04s\tremaining: 2.38s\n",
            "461:\tlearn: 0.1132952\ttotal: 2.04s\tremaining: 2.38s\n",
            "462:\tlearn: 0.1129256\ttotal: 2.05s\tremaining: 2.37s\n",
            "463:\tlearn: 0.1126168\ttotal: 2.05s\tremaining: 2.37s\n",
            "464:\tlearn: 0.1124064\ttotal: 2.05s\tremaining: 2.36s\n",
            "465:\tlearn: 0.1121054\ttotal: 2.06s\tremaining: 2.36s\n",
            "466:\tlearn: 0.1117905\ttotal: 2.06s\tremaining: 2.35s\n",
            "467:\tlearn: 0.1114519\ttotal: 2.06s\tremaining: 2.35s\n",
            "468:\tlearn: 0.1111675\ttotal: 2.07s\tremaining: 2.34s\n",
            "469:\tlearn: 0.1108098\ttotal: 2.07s\tremaining: 2.34s\n",
            "470:\tlearn: 0.1106130\ttotal: 2.08s\tremaining: 2.33s\n",
            "471:\tlearn: 0.1103961\ttotal: 2.08s\tremaining: 2.33s\n",
            "472:\tlearn: 0.1102219\ttotal: 2.08s\tremaining: 2.32s\n",
            "473:\tlearn: 0.1099434\ttotal: 2.09s\tremaining: 2.32s\n",
            "474:\tlearn: 0.1096881\ttotal: 2.09s\tremaining: 2.31s\n",
            "475:\tlearn: 0.1094392\ttotal: 2.1s\tremaining: 2.31s\n",
            "476:\tlearn: 0.1091671\ttotal: 2.1s\tremaining: 2.3s\n",
            "477:\tlearn: 0.1088445\ttotal: 2.1s\tremaining: 2.3s\n",
            "478:\tlearn: 0.1084781\ttotal: 2.11s\tremaining: 2.29s\n",
            "479:\tlearn: 0.1082367\ttotal: 2.11s\tremaining: 2.29s\n",
            "480:\tlearn: 0.1080892\ttotal: 2.11s\tremaining: 2.28s\n",
            "481:\tlearn: 0.1078225\ttotal: 2.12s\tremaining: 2.28s\n",
            "482:\tlearn: 0.1075950\ttotal: 2.12s\tremaining: 2.27s\n",
            "483:\tlearn: 0.1072596\ttotal: 2.13s\tremaining: 2.27s\n",
            "484:\tlearn: 0.1069754\ttotal: 2.13s\tremaining: 2.26s\n",
            "485:\tlearn: 0.1067334\ttotal: 2.13s\tremaining: 2.26s\n",
            "486:\tlearn: 0.1064706\ttotal: 2.14s\tremaining: 2.25s\n",
            "487:\tlearn: 0.1062817\ttotal: 2.14s\tremaining: 2.25s\n",
            "488:\tlearn: 0.1060766\ttotal: 2.15s\tremaining: 2.24s\n",
            "489:\tlearn: 0.1058189\ttotal: 2.15s\tremaining: 2.24s\n",
            "490:\tlearn: 0.1055579\ttotal: 2.16s\tremaining: 2.24s\n",
            "491:\tlearn: 0.1052642\ttotal: 2.16s\tremaining: 2.23s\n",
            "492:\tlearn: 0.1049667\ttotal: 2.17s\tremaining: 2.23s\n",
            "493:\tlearn: 0.1046230\ttotal: 2.18s\tremaining: 2.23s\n",
            "494:\tlearn: 0.1042664\ttotal: 2.18s\tremaining: 2.22s\n",
            "495:\tlearn: 0.1041047\ttotal: 2.18s\tremaining: 2.22s\n",
            "496:\tlearn: 0.1037940\ttotal: 2.19s\tremaining: 2.21s\n",
            "497:\tlearn: 0.1035977\ttotal: 2.19s\tremaining: 2.21s\n",
            "498:\tlearn: 0.1033198\ttotal: 2.19s\tremaining: 2.2s\n",
            "499:\tlearn: 0.1030015\ttotal: 2.2s\tremaining: 2.2s\n",
            "500:\tlearn: 0.1027460\ttotal: 2.2s\tremaining: 2.19s\n",
            "501:\tlearn: 0.1024662\ttotal: 2.21s\tremaining: 2.19s\n",
            "502:\tlearn: 0.1021703\ttotal: 2.21s\tremaining: 2.18s\n",
            "503:\tlearn: 0.1020280\ttotal: 2.21s\tremaining: 2.18s\n",
            "504:\tlearn: 0.1018156\ttotal: 2.22s\tremaining: 2.17s\n",
            "505:\tlearn: 0.1016360\ttotal: 2.22s\tremaining: 2.17s\n",
            "506:\tlearn: 0.1014115\ttotal: 2.23s\tremaining: 2.16s\n",
            "507:\tlearn: 0.1010918\ttotal: 2.23s\tremaining: 2.16s\n",
            "508:\tlearn: 0.1008163\ttotal: 2.24s\tremaining: 2.16s\n",
            "509:\tlearn: 0.1005581\ttotal: 2.24s\tremaining: 2.15s\n",
            "510:\tlearn: 0.1002504\ttotal: 2.24s\tremaining: 2.15s\n",
            "511:\tlearn: 0.0999346\ttotal: 2.25s\tremaining: 2.14s\n",
            "512:\tlearn: 0.0996994\ttotal: 2.25s\tremaining: 2.14s\n",
            "513:\tlearn: 0.0995207\ttotal: 2.25s\tremaining: 2.13s\n",
            "514:\tlearn: 0.0992684\ttotal: 2.26s\tremaining: 2.13s\n",
            "515:\tlearn: 0.0989963\ttotal: 2.26s\tremaining: 2.12s\n",
            "516:\tlearn: 0.0987662\ttotal: 2.27s\tremaining: 2.12s\n",
            "517:\tlearn: 0.0985360\ttotal: 2.27s\tremaining: 2.11s\n",
            "518:\tlearn: 0.0982429\ttotal: 2.28s\tremaining: 2.11s\n",
            "519:\tlearn: 0.0980618\ttotal: 2.28s\tremaining: 2.1s\n",
            "520:\tlearn: 0.0978499\ttotal: 2.28s\tremaining: 2.1s\n",
            "521:\tlearn: 0.0976416\ttotal: 2.29s\tremaining: 2.1s\n",
            "522:\tlearn: 0.0973828\ttotal: 2.29s\tremaining: 2.09s\n",
            "523:\tlearn: 0.0972099\ttotal: 2.3s\tremaining: 2.09s\n",
            "524:\tlearn: 0.0969631\ttotal: 2.3s\tremaining: 2.08s\n",
            "525:\tlearn: 0.0967797\ttotal: 2.31s\tremaining: 2.08s\n",
            "526:\tlearn: 0.0964986\ttotal: 2.31s\tremaining: 2.07s\n",
            "527:\tlearn: 0.0962096\ttotal: 2.31s\tremaining: 2.07s\n",
            "528:\tlearn: 0.0959761\ttotal: 2.32s\tremaining: 2.06s\n",
            "529:\tlearn: 0.0957574\ttotal: 2.32s\tremaining: 2.06s\n",
            "530:\tlearn: 0.0954802\ttotal: 2.33s\tremaining: 2.05s\n",
            "531:\tlearn: 0.0951669\ttotal: 2.33s\tremaining: 2.05s\n",
            "532:\tlearn: 0.0948916\ttotal: 2.33s\tremaining: 2.04s\n",
            "533:\tlearn: 0.0947286\ttotal: 2.34s\tremaining: 2.04s\n",
            "534:\tlearn: 0.0945039\ttotal: 2.35s\tremaining: 2.04s\n",
            "535:\tlearn: 0.0943085\ttotal: 2.35s\tremaining: 2.04s\n",
            "536:\tlearn: 0.0940448\ttotal: 2.35s\tremaining: 2.03s\n",
            "537:\tlearn: 0.0937752\ttotal: 2.36s\tremaining: 2.02s\n",
            "538:\tlearn: 0.0935334\ttotal: 2.36s\tremaining: 2.02s\n",
            "539:\tlearn: 0.0932968\ttotal: 2.37s\tremaining: 2.02s\n",
            "540:\tlearn: 0.0930760\ttotal: 2.37s\tremaining: 2.01s\n",
            "541:\tlearn: 0.0928472\ttotal: 2.37s\tremaining: 2.01s\n",
            "542:\tlearn: 0.0926216\ttotal: 2.38s\tremaining: 2s\n",
            "543:\tlearn: 0.0924421\ttotal: 2.38s\tremaining: 2s\n",
            "544:\tlearn: 0.0921928\ttotal: 2.39s\tremaining: 1.99s\n",
            "545:\tlearn: 0.0919135\ttotal: 2.39s\tremaining: 1.99s\n",
            "546:\tlearn: 0.0917512\ttotal: 2.39s\tremaining: 1.98s\n",
            "547:\tlearn: 0.0915000\ttotal: 2.4s\tremaining: 1.98s\n",
            "548:\tlearn: 0.0912853\ttotal: 2.4s\tremaining: 1.97s\n",
            "549:\tlearn: 0.0911036\ttotal: 2.41s\tremaining: 1.97s\n",
            "550:\tlearn: 0.0909004\ttotal: 2.41s\tremaining: 1.96s\n",
            "551:\tlearn: 0.0907275\ttotal: 2.42s\tremaining: 1.96s\n",
            "552:\tlearn: 0.0905226\ttotal: 2.42s\tremaining: 1.96s\n",
            "553:\tlearn: 0.0902492\ttotal: 2.42s\tremaining: 1.95s\n",
            "554:\tlearn: 0.0900810\ttotal: 2.43s\tremaining: 1.95s\n",
            "555:\tlearn: 0.0898204\ttotal: 2.43s\tremaining: 1.94s\n",
            "556:\tlearn: 0.0895343\ttotal: 2.44s\tremaining: 1.94s\n",
            "557:\tlearn: 0.0892481\ttotal: 2.44s\tremaining: 1.93s\n",
            "558:\tlearn: 0.0891169\ttotal: 2.44s\tremaining: 1.93s\n",
            "559:\tlearn: 0.0889282\ttotal: 2.45s\tremaining: 1.92s\n",
            "560:\tlearn: 0.0887637\ttotal: 2.45s\tremaining: 1.92s\n",
            "561:\tlearn: 0.0886170\ttotal: 2.46s\tremaining: 1.91s\n",
            "562:\tlearn: 0.0884300\ttotal: 2.46s\tremaining: 1.91s\n",
            "563:\tlearn: 0.0882938\ttotal: 2.46s\tremaining: 1.91s\n",
            "564:\tlearn: 0.0881308\ttotal: 2.47s\tremaining: 1.9s\n",
            "565:\tlearn: 0.0880048\ttotal: 2.48s\tremaining: 1.9s\n",
            "566:\tlearn: 0.0878084\ttotal: 2.48s\tremaining: 1.9s\n",
            "567:\tlearn: 0.0875132\ttotal: 2.48s\tremaining: 1.89s\n",
            "568:\tlearn: 0.0872914\ttotal: 2.49s\tremaining: 1.89s\n",
            "569:\tlearn: 0.0870474\ttotal: 2.49s\tremaining: 1.88s\n",
            "570:\tlearn: 0.0868484\ttotal: 2.5s\tremaining: 1.88s\n",
            "571:\tlearn: 0.0866170\ttotal: 2.5s\tremaining: 1.87s\n",
            "572:\tlearn: 0.0864683\ttotal: 2.5s\tremaining: 1.87s\n",
            "573:\tlearn: 0.0862774\ttotal: 2.51s\tremaining: 1.86s\n",
            "574:\tlearn: 0.0860704\ttotal: 2.51s\tremaining: 1.86s\n",
            "575:\tlearn: 0.0858334\ttotal: 2.52s\tremaining: 1.85s\n",
            "576:\tlearn: 0.0856677\ttotal: 2.52s\tremaining: 1.85s\n",
            "577:\tlearn: 0.0854242\ttotal: 2.52s\tremaining: 1.84s\n",
            "578:\tlearn: 0.0852751\ttotal: 2.53s\tremaining: 1.84s\n",
            "579:\tlearn: 0.0851468\ttotal: 2.54s\tremaining: 1.83s\n",
            "580:\tlearn: 0.0849630\ttotal: 2.54s\tremaining: 1.83s\n",
            "581:\tlearn: 0.0847945\ttotal: 2.55s\tremaining: 1.83s\n",
            "582:\tlearn: 0.0845744\ttotal: 2.55s\tremaining: 1.82s\n",
            "583:\tlearn: 0.0843363\ttotal: 2.56s\tremaining: 1.82s\n",
            "584:\tlearn: 0.0842191\ttotal: 2.56s\tremaining: 1.81s\n",
            "585:\tlearn: 0.0840813\ttotal: 2.56s\tremaining: 1.81s\n",
            "586:\tlearn: 0.0839098\ttotal: 2.57s\tremaining: 1.81s\n",
            "587:\tlearn: 0.0836661\ttotal: 2.57s\tremaining: 1.8s\n",
            "588:\tlearn: 0.0834715\ttotal: 2.58s\tremaining: 1.8s\n",
            "589:\tlearn: 0.0832374\ttotal: 2.58s\tremaining: 1.79s\n",
            "590:\tlearn: 0.0830005\ttotal: 2.58s\tremaining: 1.79s\n",
            "591:\tlearn: 0.0827728\ttotal: 2.59s\tremaining: 1.78s\n",
            "592:\tlearn: 0.0825910\ttotal: 2.59s\tremaining: 1.78s\n",
            "593:\tlearn: 0.0824037\ttotal: 2.6s\tremaining: 1.77s\n",
            "594:\tlearn: 0.0821870\ttotal: 2.6s\tremaining: 1.77s\n",
            "595:\tlearn: 0.0819382\ttotal: 2.6s\tremaining: 1.76s\n",
            "596:\tlearn: 0.0817825\ttotal: 2.61s\tremaining: 1.76s\n",
            "597:\tlearn: 0.0816091\ttotal: 2.61s\tremaining: 1.76s\n",
            "598:\tlearn: 0.0814626\ttotal: 2.62s\tremaining: 1.75s\n",
            "599:\tlearn: 0.0812543\ttotal: 2.62s\tremaining: 1.75s\n",
            "600:\tlearn: 0.0810349\ttotal: 2.63s\tremaining: 1.74s\n",
            "601:\tlearn: 0.0808896\ttotal: 2.63s\tremaining: 1.74s\n",
            "602:\tlearn: 0.0807432\ttotal: 2.63s\tremaining: 1.73s\n",
            "603:\tlearn: 0.0805713\ttotal: 2.64s\tremaining: 1.73s\n",
            "604:\tlearn: 0.0804120\ttotal: 2.64s\tremaining: 1.72s\n",
            "605:\tlearn: 0.0802656\ttotal: 2.64s\tremaining: 1.72s\n",
            "606:\tlearn: 0.0800291\ttotal: 2.65s\tremaining: 1.71s\n",
            "607:\tlearn: 0.0798169\ttotal: 2.65s\tremaining: 1.71s\n",
            "608:\tlearn: 0.0796997\ttotal: 2.66s\tremaining: 1.71s\n",
            "609:\tlearn: 0.0794925\ttotal: 2.66s\tremaining: 1.7s\n",
            "610:\tlearn: 0.0793108\ttotal: 2.67s\tremaining: 1.7s\n",
            "611:\tlearn: 0.0791522\ttotal: 2.67s\tremaining: 1.69s\n",
            "612:\tlearn: 0.0789406\ttotal: 2.67s\tremaining: 1.69s\n",
            "613:\tlearn: 0.0787971\ttotal: 2.68s\tremaining: 1.68s\n",
            "614:\tlearn: 0.0786355\ttotal: 2.69s\tremaining: 1.68s\n",
            "615:\tlearn: 0.0785142\ttotal: 2.69s\tremaining: 1.68s\n",
            "616:\tlearn: 0.0783705\ttotal: 2.7s\tremaining: 1.68s\n",
            "617:\tlearn: 0.0782016\ttotal: 2.71s\tremaining: 1.67s\n",
            "618:\tlearn: 0.0780336\ttotal: 2.71s\tremaining: 1.67s\n",
            "619:\tlearn: 0.0779052\ttotal: 2.71s\tremaining: 1.66s\n",
            "620:\tlearn: 0.0777732\ttotal: 2.72s\tremaining: 1.66s\n",
            "621:\tlearn: 0.0775206\ttotal: 2.72s\tremaining: 1.65s\n",
            "622:\tlearn: 0.0773811\ttotal: 2.73s\tremaining: 1.65s\n",
            "623:\tlearn: 0.0771980\ttotal: 2.73s\tremaining: 1.65s\n",
            "624:\tlearn: 0.0770166\ttotal: 2.74s\tremaining: 1.64s\n",
            "625:\tlearn: 0.0768608\ttotal: 2.75s\tremaining: 1.64s\n",
            "626:\tlearn: 0.0766257\ttotal: 2.75s\tremaining: 1.64s\n",
            "627:\tlearn: 0.0764161\ttotal: 2.76s\tremaining: 1.63s\n",
            "628:\tlearn: 0.0762413\ttotal: 2.76s\tremaining: 1.63s\n",
            "629:\tlearn: 0.0760546\ttotal: 2.77s\tremaining: 1.63s\n",
            "630:\tlearn: 0.0758391\ttotal: 2.77s\tremaining: 1.62s\n",
            "631:\tlearn: 0.0757125\ttotal: 2.77s\tremaining: 1.62s\n",
            "632:\tlearn: 0.0754935\ttotal: 2.78s\tremaining: 1.61s\n",
            "633:\tlearn: 0.0752388\ttotal: 2.78s\tremaining: 1.61s\n",
            "634:\tlearn: 0.0750605\ttotal: 2.79s\tremaining: 1.6s\n",
            "635:\tlearn: 0.0749107\ttotal: 2.79s\tremaining: 1.6s\n",
            "636:\tlearn: 0.0747387\ttotal: 2.8s\tremaining: 1.59s\n",
            "637:\tlearn: 0.0746021\ttotal: 2.8s\tremaining: 1.59s\n",
            "638:\tlearn: 0.0744679\ttotal: 2.81s\tremaining: 1.58s\n",
            "639:\tlearn: 0.0743634\ttotal: 2.81s\tremaining: 1.58s\n",
            "640:\tlearn: 0.0742442\ttotal: 2.82s\tremaining: 1.58s\n",
            "641:\tlearn: 0.0740978\ttotal: 2.82s\tremaining: 1.57s\n",
            "642:\tlearn: 0.0739452\ttotal: 2.82s\tremaining: 1.57s\n",
            "643:\tlearn: 0.0737627\ttotal: 2.83s\tremaining: 1.56s\n",
            "644:\tlearn: 0.0735210\ttotal: 2.83s\tremaining: 1.56s\n",
            "645:\tlearn: 0.0732858\ttotal: 2.84s\tremaining: 1.55s\n",
            "646:\tlearn: 0.0731944\ttotal: 2.84s\tremaining: 1.55s\n",
            "647:\tlearn: 0.0729574\ttotal: 2.85s\tremaining: 1.55s\n",
            "648:\tlearn: 0.0728002\ttotal: 2.85s\tremaining: 1.54s\n",
            "649:\tlearn: 0.0726490\ttotal: 2.85s\tremaining: 1.54s\n",
            "650:\tlearn: 0.0724961\ttotal: 2.86s\tremaining: 1.53s\n",
            "651:\tlearn: 0.0723813\ttotal: 2.86s\tremaining: 1.53s\n",
            "652:\tlearn: 0.0722507\ttotal: 2.87s\tremaining: 1.52s\n",
            "653:\tlearn: 0.0720878\ttotal: 2.87s\tremaining: 1.52s\n",
            "654:\tlearn: 0.0719077\ttotal: 2.88s\tremaining: 1.51s\n",
            "655:\tlearn: 0.0717298\ttotal: 2.88s\tremaining: 1.51s\n",
            "656:\tlearn: 0.0715903\ttotal: 2.88s\tremaining: 1.51s\n",
            "657:\tlearn: 0.0714726\ttotal: 2.9s\tremaining: 1.5s\n",
            "658:\tlearn: 0.0713149\ttotal: 2.9s\tremaining: 1.5s\n",
            "659:\tlearn: 0.0711568\ttotal: 2.91s\tremaining: 1.5s\n",
            "660:\tlearn: 0.0710005\ttotal: 2.91s\tremaining: 1.49s\n",
            "661:\tlearn: 0.0708181\ttotal: 2.92s\tremaining: 1.49s\n",
            "662:\tlearn: 0.0706347\ttotal: 2.93s\tremaining: 1.49s\n",
            "663:\tlearn: 0.0704945\ttotal: 2.93s\tremaining: 1.48s\n",
            "664:\tlearn: 0.0703770\ttotal: 2.94s\tremaining: 1.48s\n",
            "665:\tlearn: 0.0702739\ttotal: 2.94s\tremaining: 1.48s\n",
            "666:\tlearn: 0.0701543\ttotal: 2.94s\tremaining: 1.47s\n",
            "667:\tlearn: 0.0700071\ttotal: 2.95s\tremaining: 1.47s\n",
            "668:\tlearn: 0.0698244\ttotal: 2.95s\tremaining: 1.46s\n",
            "669:\tlearn: 0.0696923\ttotal: 2.96s\tremaining: 1.46s\n",
            "670:\tlearn: 0.0694896\ttotal: 2.96s\tremaining: 1.45s\n",
            "671:\tlearn: 0.0693170\ttotal: 2.96s\tremaining: 1.45s\n",
            "672:\tlearn: 0.0691083\ttotal: 2.97s\tremaining: 1.44s\n",
            "673:\tlearn: 0.0689788\ttotal: 2.97s\tremaining: 1.44s\n",
            "674:\tlearn: 0.0688740\ttotal: 2.98s\tremaining: 1.43s\n",
            "675:\tlearn: 0.0687047\ttotal: 2.98s\tremaining: 1.43s\n",
            "676:\tlearn: 0.0685265\ttotal: 2.99s\tremaining: 1.42s\n",
            "677:\tlearn: 0.0683905\ttotal: 2.99s\tremaining: 1.42s\n",
            "678:\tlearn: 0.0682302\ttotal: 2.99s\tremaining: 1.42s\n",
            "679:\tlearn: 0.0681026\ttotal: 3s\tremaining: 1.41s\n",
            "680:\tlearn: 0.0679959\ttotal: 3s\tremaining: 1.41s\n",
            "681:\tlearn: 0.0678483\ttotal: 3.01s\tremaining: 1.4s\n",
            "682:\tlearn: 0.0676350\ttotal: 3.01s\tremaining: 1.4s\n",
            "683:\tlearn: 0.0675477\ttotal: 3.01s\tremaining: 1.39s\n",
            "684:\tlearn: 0.0674192\ttotal: 3.02s\tremaining: 1.39s\n",
            "685:\tlearn: 0.0673182\ttotal: 3.02s\tremaining: 1.38s\n",
            "686:\tlearn: 0.0671648\ttotal: 3.03s\tremaining: 1.38s\n",
            "687:\tlearn: 0.0670040\ttotal: 3.03s\tremaining: 1.38s\n",
            "688:\tlearn: 0.0669116\ttotal: 3.04s\tremaining: 1.37s\n",
            "689:\tlearn: 0.0667923\ttotal: 3.04s\tremaining: 1.37s\n",
            "690:\tlearn: 0.0666681\ttotal: 3.05s\tremaining: 1.36s\n",
            "691:\tlearn: 0.0665003\ttotal: 3.05s\tremaining: 1.36s\n",
            "692:\tlearn: 0.0663376\ttotal: 3.05s\tremaining: 1.35s\n",
            "693:\tlearn: 0.0662237\ttotal: 3.06s\tremaining: 1.35s\n",
            "694:\tlearn: 0.0661089\ttotal: 3.07s\tremaining: 1.34s\n",
            "695:\tlearn: 0.0659727\ttotal: 3.07s\tremaining: 1.34s\n",
            "696:\tlearn: 0.0658310\ttotal: 3.07s\tremaining: 1.34s\n",
            "697:\tlearn: 0.0657016\ttotal: 3.08s\tremaining: 1.33s\n",
            "698:\tlearn: 0.0655454\ttotal: 3.08s\tremaining: 1.33s\n",
            "699:\tlearn: 0.0654148\ttotal: 3.09s\tremaining: 1.32s\n",
            "700:\tlearn: 0.0653314\ttotal: 3.09s\tremaining: 1.32s\n",
            "701:\tlearn: 0.0651570\ttotal: 3.1s\tremaining: 1.31s\n",
            "702:\tlearn: 0.0650613\ttotal: 3.1s\tremaining: 1.31s\n",
            "703:\tlearn: 0.0649031\ttotal: 3.1s\tremaining: 1.3s\n",
            "704:\tlearn: 0.0647761\ttotal: 3.11s\tremaining: 1.3s\n",
            "705:\tlearn: 0.0645991\ttotal: 3.12s\tremaining: 1.3s\n",
            "706:\tlearn: 0.0644370\ttotal: 3.13s\tremaining: 1.3s\n",
            "707:\tlearn: 0.0642500\ttotal: 3.13s\tremaining: 1.29s\n",
            "708:\tlearn: 0.0641314\ttotal: 3.14s\tremaining: 1.29s\n",
            "709:\tlearn: 0.0639990\ttotal: 3.14s\tremaining: 1.28s\n",
            "710:\tlearn: 0.0638665\ttotal: 3.15s\tremaining: 1.28s\n",
            "711:\tlearn: 0.0636923\ttotal: 3.15s\tremaining: 1.27s\n",
            "712:\tlearn: 0.0635719\ttotal: 3.15s\tremaining: 1.27s\n",
            "713:\tlearn: 0.0633683\ttotal: 3.16s\tremaining: 1.26s\n",
            "714:\tlearn: 0.0632438\ttotal: 3.16s\tremaining: 1.26s\n",
            "715:\tlearn: 0.0631109\ttotal: 3.17s\tremaining: 1.25s\n",
            "716:\tlearn: 0.0629463\ttotal: 3.17s\tremaining: 1.25s\n",
            "717:\tlearn: 0.0628053\ttotal: 3.17s\tremaining: 1.25s\n",
            "718:\tlearn: 0.0627030\ttotal: 3.18s\tremaining: 1.24s\n",
            "719:\tlearn: 0.0625912\ttotal: 3.18s\tremaining: 1.24s\n",
            "720:\tlearn: 0.0624812\ttotal: 3.19s\tremaining: 1.23s\n",
            "721:\tlearn: 0.0623324\ttotal: 3.19s\tremaining: 1.23s\n",
            "722:\tlearn: 0.0622006\ttotal: 3.19s\tremaining: 1.22s\n",
            "723:\tlearn: 0.0620291\ttotal: 3.2s\tremaining: 1.22s\n",
            "724:\tlearn: 0.0618942\ttotal: 3.2s\tremaining: 1.21s\n",
            "725:\tlearn: 0.0617790\ttotal: 3.21s\tremaining: 1.21s\n",
            "726:\tlearn: 0.0616985\ttotal: 3.21s\tremaining: 1.21s\n",
            "727:\tlearn: 0.0615986\ttotal: 3.21s\tremaining: 1.2s\n",
            "728:\tlearn: 0.0614680\ttotal: 3.22s\tremaining: 1.2s\n",
            "729:\tlearn: 0.0613329\ttotal: 3.22s\tremaining: 1.19s\n",
            "730:\tlearn: 0.0612078\ttotal: 3.22s\tremaining: 1.19s\n",
            "731:\tlearn: 0.0610722\ttotal: 3.23s\tremaining: 1.18s\n",
            "732:\tlearn: 0.0609780\ttotal: 3.23s\tremaining: 1.18s\n",
            "733:\tlearn: 0.0608400\ttotal: 3.24s\tremaining: 1.17s\n",
            "734:\tlearn: 0.0607207\ttotal: 3.24s\tremaining: 1.17s\n",
            "735:\tlearn: 0.0606170\ttotal: 3.24s\tremaining: 1.16s\n",
            "736:\tlearn: 0.0605213\ttotal: 3.25s\tremaining: 1.16s\n",
            "737:\tlearn: 0.0604121\ttotal: 3.25s\tremaining: 1.15s\n",
            "738:\tlearn: 0.0602703\ttotal: 3.26s\tremaining: 1.15s\n",
            "739:\tlearn: 0.0601565\ttotal: 3.26s\tremaining: 1.15s\n",
            "740:\tlearn: 0.0600301\ttotal: 3.27s\tremaining: 1.14s\n",
            "741:\tlearn: 0.0599187\ttotal: 3.28s\tremaining: 1.14s\n",
            "742:\tlearn: 0.0597995\ttotal: 3.29s\tremaining: 1.14s\n",
            "743:\tlearn: 0.0597160\ttotal: 3.29s\tremaining: 1.13s\n",
            "744:\tlearn: 0.0595832\ttotal: 3.3s\tremaining: 1.13s\n",
            "745:\tlearn: 0.0594919\ttotal: 3.3s\tremaining: 1.12s\n",
            "746:\tlearn: 0.0594151\ttotal: 3.3s\tremaining: 1.12s\n",
            "747:\tlearn: 0.0592504\ttotal: 3.31s\tremaining: 1.11s\n",
            "748:\tlearn: 0.0591323\ttotal: 3.32s\tremaining: 1.11s\n",
            "749:\tlearn: 0.0589878\ttotal: 3.32s\tremaining: 1.11s\n",
            "750:\tlearn: 0.0588648\ttotal: 3.33s\tremaining: 1.1s\n",
            "751:\tlearn: 0.0587626\ttotal: 3.33s\tremaining: 1.1s\n",
            "752:\tlearn: 0.0586523\ttotal: 3.33s\tremaining: 1.09s\n",
            "753:\tlearn: 0.0585888\ttotal: 3.34s\tremaining: 1.09s\n",
            "754:\tlearn: 0.0584698\ttotal: 3.34s\tremaining: 1.08s\n",
            "755:\tlearn: 0.0583204\ttotal: 3.35s\tremaining: 1.08s\n",
            "756:\tlearn: 0.0582035\ttotal: 3.35s\tremaining: 1.08s\n",
            "757:\tlearn: 0.0581035\ttotal: 3.36s\tremaining: 1.07s\n",
            "758:\tlearn: 0.0580297\ttotal: 3.36s\tremaining: 1.07s\n",
            "759:\tlearn: 0.0578906\ttotal: 3.37s\tremaining: 1.06s\n",
            "760:\tlearn: 0.0577702\ttotal: 3.37s\tremaining: 1.06s\n",
            "761:\tlearn: 0.0577107\ttotal: 3.38s\tremaining: 1.05s\n",
            "762:\tlearn: 0.0576026\ttotal: 3.38s\tremaining: 1.05s\n",
            "763:\tlearn: 0.0574823\ttotal: 3.39s\tremaining: 1.05s\n",
            "764:\tlearn: 0.0573726\ttotal: 3.39s\tremaining: 1.04s\n",
            "765:\tlearn: 0.0572910\ttotal: 3.4s\tremaining: 1.04s\n",
            "766:\tlearn: 0.0572016\ttotal: 3.41s\tremaining: 1.03s\n",
            "767:\tlearn: 0.0571348\ttotal: 3.41s\tremaining: 1.03s\n",
            "768:\tlearn: 0.0570292\ttotal: 3.42s\tremaining: 1.03s\n",
            "769:\tlearn: 0.0569330\ttotal: 3.42s\tremaining: 1.02s\n",
            "770:\tlearn: 0.0568216\ttotal: 3.43s\tremaining: 1.02s\n",
            "771:\tlearn: 0.0567054\ttotal: 3.43s\tremaining: 1.01s\n",
            "772:\tlearn: 0.0565946\ttotal: 3.43s\tremaining: 1.01s\n",
            "773:\tlearn: 0.0564610\ttotal: 3.44s\tremaining: 1s\n",
            "774:\tlearn: 0.0563140\ttotal: 3.44s\tremaining: 1000ms\n",
            "775:\tlearn: 0.0561982\ttotal: 3.45s\tremaining: 996ms\n",
            "776:\tlearn: 0.0561036\ttotal: 3.45s\tremaining: 991ms\n",
            "777:\tlearn: 0.0560153\ttotal: 3.46s\tremaining: 986ms\n",
            "778:\tlearn: 0.0558441\ttotal: 3.46s\tremaining: 982ms\n",
            "779:\tlearn: 0.0557871\ttotal: 3.46s\tremaining: 977ms\n",
            "780:\tlearn: 0.0556986\ttotal: 3.47s\tremaining: 973ms\n",
            "781:\tlearn: 0.0556588\ttotal: 3.47s\tremaining: 968ms\n",
            "782:\tlearn: 0.0555353\ttotal: 3.48s\tremaining: 964ms\n",
            "783:\tlearn: 0.0554126\ttotal: 3.48s\tremaining: 959ms\n",
            "784:\tlearn: 0.0553448\ttotal: 3.48s\tremaining: 955ms\n",
            "785:\tlearn: 0.0552272\ttotal: 3.49s\tremaining: 950ms\n",
            "786:\tlearn: 0.0551444\ttotal: 3.49s\tremaining: 945ms\n",
            "787:\tlearn: 0.0550466\ttotal: 3.5s\tremaining: 941ms\n",
            "788:\tlearn: 0.0548790\ttotal: 3.5s\tremaining: 936ms\n",
            "789:\tlearn: 0.0548072\ttotal: 3.51s\tremaining: 933ms\n",
            "790:\tlearn: 0.0547009\ttotal: 3.51s\tremaining: 929ms\n",
            "791:\tlearn: 0.0545655\ttotal: 3.52s\tremaining: 924ms\n",
            "792:\tlearn: 0.0544926\ttotal: 3.52s\tremaining: 920ms\n",
            "793:\tlearn: 0.0543739\ttotal: 3.53s\tremaining: 915ms\n",
            "794:\tlearn: 0.0542288\ttotal: 3.53s\tremaining: 910ms\n",
            "795:\tlearn: 0.0541556\ttotal: 3.53s\tremaining: 906ms\n",
            "796:\tlearn: 0.0540507\ttotal: 3.54s\tremaining: 901ms\n",
            "797:\tlearn: 0.0539484\ttotal: 3.54s\tremaining: 897ms\n",
            "798:\tlearn: 0.0538436\ttotal: 3.55s\tremaining: 893ms\n",
            "799:\tlearn: 0.0537531\ttotal: 3.55s\tremaining: 888ms\n",
            "800:\tlearn: 0.0536834\ttotal: 3.56s\tremaining: 884ms\n",
            "801:\tlearn: 0.0535871\ttotal: 3.56s\tremaining: 879ms\n",
            "802:\tlearn: 0.0534929\ttotal: 3.57s\tremaining: 875ms\n",
            "803:\tlearn: 0.0534142\ttotal: 3.57s\tremaining: 870ms\n",
            "804:\tlearn: 0.0533238\ttotal: 3.57s\tremaining: 866ms\n",
            "805:\tlearn: 0.0532178\ttotal: 3.58s\tremaining: 861ms\n",
            "806:\tlearn: 0.0531281\ttotal: 3.58s\tremaining: 857ms\n",
            "807:\tlearn: 0.0530450\ttotal: 3.59s\tremaining: 852ms\n",
            "808:\tlearn: 0.0529785\ttotal: 3.59s\tremaining: 848ms\n",
            "809:\tlearn: 0.0529075\ttotal: 3.6s\tremaining: 844ms\n",
            "810:\tlearn: 0.0528049\ttotal: 3.6s\tremaining: 839ms\n",
            "811:\tlearn: 0.0527106\ttotal: 3.6s\tremaining: 835ms\n",
            "812:\tlearn: 0.0526553\ttotal: 3.61s\tremaining: 830ms\n",
            "813:\tlearn: 0.0525399\ttotal: 3.61s\tremaining: 826ms\n",
            "814:\tlearn: 0.0524531\ttotal: 3.62s\tremaining: 821ms\n",
            "815:\tlearn: 0.0523698\ttotal: 3.62s\tremaining: 817ms\n",
            "816:\tlearn: 0.0522377\ttotal: 3.63s\tremaining: 812ms\n",
            "817:\tlearn: 0.0521537\ttotal: 3.63s\tremaining: 808ms\n",
            "818:\tlearn: 0.0520412\ttotal: 3.64s\tremaining: 804ms\n",
            "819:\tlearn: 0.0519600\ttotal: 3.65s\tremaining: 801ms\n",
            "820:\tlearn: 0.0518642\ttotal: 3.65s\tremaining: 796ms\n",
            "821:\tlearn: 0.0517701\ttotal: 3.65s\tremaining: 792ms\n",
            "822:\tlearn: 0.0516734\ttotal: 3.66s\tremaining: 787ms\n",
            "823:\tlearn: 0.0516014\ttotal: 3.66s\tremaining: 782ms\n",
            "824:\tlearn: 0.0514891\ttotal: 3.67s\tremaining: 778ms\n",
            "825:\tlearn: 0.0513872\ttotal: 3.67s\tremaining: 774ms\n",
            "826:\tlearn: 0.0513280\ttotal: 3.68s\tremaining: 769ms\n",
            "827:\tlearn: 0.0512461\ttotal: 3.68s\tremaining: 765ms\n",
            "828:\tlearn: 0.0511586\ttotal: 3.68s\tremaining: 760ms\n",
            "829:\tlearn: 0.0510408\ttotal: 3.69s\tremaining: 755ms\n",
            "830:\tlearn: 0.0509603\ttotal: 3.7s\tremaining: 752ms\n",
            "831:\tlearn: 0.0508931\ttotal: 3.7s\tremaining: 747ms\n",
            "832:\tlearn: 0.0507988\ttotal: 3.7s\tremaining: 742ms\n",
            "833:\tlearn: 0.0506944\ttotal: 3.71s\tremaining: 738ms\n",
            "834:\tlearn: 0.0506159\ttotal: 3.71s\tremaining: 733ms\n",
            "835:\tlearn: 0.0505100\ttotal: 3.71s\tremaining: 729ms\n",
            "836:\tlearn: 0.0504111\ttotal: 3.72s\tremaining: 724ms\n",
            "837:\tlearn: 0.0503349\ttotal: 3.72s\tremaining: 719ms\n",
            "838:\tlearn: 0.0502313\ttotal: 3.72s\tremaining: 715ms\n",
            "839:\tlearn: 0.0501302\ttotal: 3.73s\tremaining: 710ms\n",
            "840:\tlearn: 0.0500812\ttotal: 3.73s\tremaining: 706ms\n",
            "841:\tlearn: 0.0499924\ttotal: 3.74s\tremaining: 701ms\n",
            "842:\tlearn: 0.0498936\ttotal: 3.74s\tremaining: 697ms\n",
            "843:\tlearn: 0.0498072\ttotal: 3.74s\tremaining: 692ms\n",
            "844:\tlearn: 0.0497139\ttotal: 3.75s\tremaining: 688ms\n",
            "845:\tlearn: 0.0496131\ttotal: 3.75s\tremaining: 683ms\n",
            "846:\tlearn: 0.0494954\ttotal: 3.76s\tremaining: 678ms\n",
            "847:\tlearn: 0.0493915\ttotal: 3.76s\tremaining: 674ms\n",
            "848:\tlearn: 0.0493237\ttotal: 3.76s\tremaining: 669ms\n",
            "849:\tlearn: 0.0492777\ttotal: 3.77s\tremaining: 665ms\n",
            "850:\tlearn: 0.0492062\ttotal: 3.77s\tremaining: 660ms\n",
            "851:\tlearn: 0.0491222\ttotal: 3.77s\tremaining: 656ms\n",
            "852:\tlearn: 0.0490474\ttotal: 3.78s\tremaining: 651ms\n",
            "853:\tlearn: 0.0489457\ttotal: 3.78s\tremaining: 647ms\n",
            "854:\tlearn: 0.0488430\ttotal: 3.79s\tremaining: 642ms\n",
            "855:\tlearn: 0.0487427\ttotal: 3.79s\tremaining: 638ms\n",
            "856:\tlearn: 0.0486460\ttotal: 3.79s\tremaining: 633ms\n",
            "857:\tlearn: 0.0485807\ttotal: 3.8s\tremaining: 629ms\n",
            "858:\tlearn: 0.0485331\ttotal: 3.8s\tremaining: 624ms\n",
            "859:\tlearn: 0.0484702\ttotal: 3.81s\tremaining: 620ms\n",
            "860:\tlearn: 0.0484093\ttotal: 3.81s\tremaining: 615ms\n",
            "861:\tlearn: 0.0483329\ttotal: 3.82s\tremaining: 611ms\n",
            "862:\tlearn: 0.0482439\ttotal: 3.82s\tremaining: 607ms\n",
            "863:\tlearn: 0.0481481\ttotal: 3.82s\tremaining: 602ms\n",
            "864:\tlearn: 0.0480575\ttotal: 3.83s\tremaining: 597ms\n",
            "865:\tlearn: 0.0479912\ttotal: 3.83s\tremaining: 593ms\n",
            "866:\tlearn: 0.0479086\ttotal: 3.84s\tremaining: 589ms\n",
            "867:\tlearn: 0.0478125\ttotal: 3.84s\tremaining: 584ms\n",
            "868:\tlearn: 0.0477280\ttotal: 3.84s\tremaining: 579ms\n",
            "869:\tlearn: 0.0476219\ttotal: 3.85s\tremaining: 575ms\n",
            "870:\tlearn: 0.0475236\ttotal: 3.85s\tremaining: 570ms\n",
            "871:\tlearn: 0.0474350\ttotal: 3.85s\tremaining: 566ms\n",
            "872:\tlearn: 0.0473472\ttotal: 3.86s\tremaining: 561ms\n",
            "873:\tlearn: 0.0472758\ttotal: 3.86s\tremaining: 557ms\n",
            "874:\tlearn: 0.0471843\ttotal: 3.87s\tremaining: 552ms\n",
            "875:\tlearn: 0.0470507\ttotal: 3.87s\tremaining: 548ms\n",
            "876:\tlearn: 0.0469546\ttotal: 3.88s\tremaining: 544ms\n",
            "877:\tlearn: 0.0468988\ttotal: 3.89s\tremaining: 540ms\n",
            "878:\tlearn: 0.0467955\ttotal: 3.89s\tremaining: 536ms\n",
            "879:\tlearn: 0.0467228\ttotal: 3.9s\tremaining: 531ms\n",
            "880:\tlearn: 0.0466509\ttotal: 3.9s\tremaining: 527ms\n",
            "881:\tlearn: 0.0465786\ttotal: 3.91s\tremaining: 523ms\n",
            "882:\tlearn: 0.0465128\ttotal: 3.91s\tremaining: 518ms\n",
            "883:\tlearn: 0.0464174\ttotal: 3.91s\tremaining: 514ms\n",
            "884:\tlearn: 0.0463398\ttotal: 3.92s\tremaining: 509ms\n",
            "885:\tlearn: 0.0462619\ttotal: 3.92s\tremaining: 505ms\n",
            "886:\tlearn: 0.0461921\ttotal: 3.92s\tremaining: 500ms\n",
            "887:\tlearn: 0.0461333\ttotal: 3.93s\tremaining: 496ms\n",
            "888:\tlearn: 0.0460436\ttotal: 3.93s\tremaining: 491ms\n",
            "889:\tlearn: 0.0459578\ttotal: 3.94s\tremaining: 487ms\n",
            "890:\tlearn: 0.0458884\ttotal: 3.94s\tremaining: 482ms\n",
            "891:\tlearn: 0.0458109\ttotal: 3.94s\tremaining: 478ms\n",
            "892:\tlearn: 0.0457713\ttotal: 3.95s\tremaining: 473ms\n",
            "893:\tlearn: 0.0456626\ttotal: 3.95s\tremaining: 469ms\n",
            "894:\tlearn: 0.0455744\ttotal: 3.96s\tremaining: 464ms\n",
            "895:\tlearn: 0.0454901\ttotal: 3.96s\tremaining: 460ms\n",
            "896:\tlearn: 0.0453896\ttotal: 3.97s\tremaining: 456ms\n",
            "897:\tlearn: 0.0453360\ttotal: 3.97s\tremaining: 451ms\n",
            "898:\tlearn: 0.0452879\ttotal: 3.97s\tremaining: 447ms\n",
            "899:\tlearn: 0.0452291\ttotal: 3.98s\tremaining: 442ms\n",
            "900:\tlearn: 0.0451446\ttotal: 3.98s\tremaining: 438ms\n",
            "901:\tlearn: 0.0450536\ttotal: 3.99s\tremaining: 433ms\n",
            "902:\tlearn: 0.0449721\ttotal: 3.99s\tremaining: 429ms\n",
            "903:\tlearn: 0.0449030\ttotal: 3.99s\tremaining: 424ms\n",
            "904:\tlearn: 0.0448344\ttotal: 4s\tremaining: 420ms\n",
            "905:\tlearn: 0.0447480\ttotal: 4s\tremaining: 415ms\n",
            "906:\tlearn: 0.0446778\ttotal: 4.01s\tremaining: 411ms\n",
            "907:\tlearn: 0.0446334\ttotal: 4.01s\tremaining: 407ms\n",
            "908:\tlearn: 0.0445874\ttotal: 4.02s\tremaining: 402ms\n",
            "909:\tlearn: 0.0445151\ttotal: 4.02s\tremaining: 398ms\n",
            "910:\tlearn: 0.0444663\ttotal: 4.03s\tremaining: 393ms\n",
            "911:\tlearn: 0.0443831\ttotal: 4.03s\tremaining: 389ms\n",
            "912:\tlearn: 0.0442789\ttotal: 4.03s\tremaining: 384ms\n",
            "913:\tlearn: 0.0441959\ttotal: 4.04s\tremaining: 380ms\n",
            "914:\tlearn: 0.0441301\ttotal: 4.04s\tremaining: 375ms\n",
            "915:\tlearn: 0.0440331\ttotal: 4.04s\tremaining: 371ms\n",
            "916:\tlearn: 0.0439494\ttotal: 4.05s\tremaining: 366ms\n",
            "917:\tlearn: 0.0438772\ttotal: 4.05s\tremaining: 362ms\n",
            "918:\tlearn: 0.0438053\ttotal: 4.05s\tremaining: 357ms\n",
            "919:\tlearn: 0.0437344\ttotal: 4.06s\tremaining: 353ms\n",
            "920:\tlearn: 0.0436508\ttotal: 4.06s\tremaining: 349ms\n",
            "921:\tlearn: 0.0435908\ttotal: 4.07s\tremaining: 344ms\n",
            "922:\tlearn: 0.0434996\ttotal: 4.07s\tremaining: 340ms\n",
            "923:\tlearn: 0.0434041\ttotal: 4.08s\tremaining: 335ms\n",
            "924:\tlearn: 0.0433320\ttotal: 4.08s\tremaining: 331ms\n",
            "925:\tlearn: 0.0432497\ttotal: 4.09s\tremaining: 327ms\n",
            "926:\tlearn: 0.0431584\ttotal: 4.09s\tremaining: 322ms\n",
            "927:\tlearn: 0.0431374\ttotal: 4.1s\tremaining: 318ms\n",
            "928:\tlearn: 0.0430726\ttotal: 4.1s\tremaining: 313ms\n",
            "929:\tlearn: 0.0429779\ttotal: 4.11s\tremaining: 309ms\n",
            "930:\tlearn: 0.0428999\ttotal: 4.11s\tremaining: 305ms\n",
            "931:\tlearn: 0.0428098\ttotal: 4.11s\tremaining: 300ms\n",
            "932:\tlearn: 0.0427118\ttotal: 4.12s\tremaining: 296ms\n",
            "933:\tlearn: 0.0426327\ttotal: 4.12s\tremaining: 291ms\n",
            "934:\tlearn: 0.0425765\ttotal: 4.12s\tremaining: 287ms\n",
            "935:\tlearn: 0.0424968\ttotal: 4.13s\tremaining: 282ms\n",
            "936:\tlearn: 0.0424188\ttotal: 4.13s\tremaining: 278ms\n",
            "937:\tlearn: 0.0423646\ttotal: 4.13s\tremaining: 273ms\n",
            "938:\tlearn: 0.0423056\ttotal: 4.14s\tremaining: 269ms\n",
            "939:\tlearn: 0.0422368\ttotal: 4.14s\tremaining: 264ms\n",
            "940:\tlearn: 0.0421753\ttotal: 4.15s\tremaining: 260ms\n",
            "941:\tlearn: 0.0421078\ttotal: 4.15s\tremaining: 256ms\n",
            "942:\tlearn: 0.0420319\ttotal: 4.16s\tremaining: 251ms\n",
            "943:\tlearn: 0.0419511\ttotal: 4.16s\tremaining: 247ms\n",
            "944:\tlearn: 0.0418897\ttotal: 4.16s\tremaining: 242ms\n",
            "945:\tlearn: 0.0418006\ttotal: 4.17s\tremaining: 238ms\n",
            "946:\tlearn: 0.0417520\ttotal: 4.17s\tremaining: 233ms\n",
            "947:\tlearn: 0.0416393\ttotal: 4.17s\tremaining: 229ms\n",
            "948:\tlearn: 0.0415744\ttotal: 4.18s\tremaining: 225ms\n",
            "949:\tlearn: 0.0415057\ttotal: 4.18s\tremaining: 220ms\n",
            "950:\tlearn: 0.0414463\ttotal: 4.18s\tremaining: 216ms\n",
            "951:\tlearn: 0.0413900\ttotal: 4.19s\tremaining: 211ms\n",
            "952:\tlearn: 0.0413196\ttotal: 4.19s\tremaining: 207ms\n",
            "953:\tlearn: 0.0412283\ttotal: 4.2s\tremaining: 202ms\n",
            "954:\tlearn: 0.0411792\ttotal: 4.2s\tremaining: 198ms\n",
            "955:\tlearn: 0.0411231\ttotal: 4.2s\tremaining: 194ms\n",
            "956:\tlearn: 0.0410289\ttotal: 4.21s\tremaining: 189ms\n",
            "957:\tlearn: 0.0409791\ttotal: 4.21s\tremaining: 185ms\n",
            "958:\tlearn: 0.0408923\ttotal: 4.21s\tremaining: 180ms\n",
            "959:\tlearn: 0.0408272\ttotal: 4.22s\tremaining: 176ms\n",
            "960:\tlearn: 0.0407774\ttotal: 4.22s\tremaining: 171ms\n",
            "961:\tlearn: 0.0407179\ttotal: 4.22s\tremaining: 167ms\n",
            "962:\tlearn: 0.0406482\ttotal: 4.23s\tremaining: 163ms\n",
            "963:\tlearn: 0.0405682\ttotal: 4.24s\tremaining: 158ms\n",
            "964:\tlearn: 0.0405035\ttotal: 4.24s\tremaining: 154ms\n",
            "965:\tlearn: 0.0404439\ttotal: 4.24s\tremaining: 149ms\n",
            "966:\tlearn: 0.0403767\ttotal: 4.25s\tremaining: 145ms\n",
            "967:\tlearn: 0.0403305\ttotal: 4.25s\tremaining: 141ms\n",
            "968:\tlearn: 0.0402839\ttotal: 4.25s\tremaining: 136ms\n",
            "969:\tlearn: 0.0402150\ttotal: 4.26s\tremaining: 132ms\n",
            "970:\tlearn: 0.0401616\ttotal: 4.26s\tremaining: 127ms\n",
            "971:\tlearn: 0.0400800\ttotal: 4.27s\tremaining: 123ms\n",
            "972:\tlearn: 0.0400129\ttotal: 4.27s\tremaining: 119ms\n",
            "973:\tlearn: 0.0399732\ttotal: 4.28s\tremaining: 114ms\n",
            "974:\tlearn: 0.0399077\ttotal: 4.29s\tremaining: 110ms\n",
            "975:\tlearn: 0.0398333\ttotal: 4.29s\tremaining: 105ms\n",
            "976:\tlearn: 0.0397566\ttotal: 4.29s\tremaining: 101ms\n",
            "977:\tlearn: 0.0396896\ttotal: 4.3s\tremaining: 96.7ms\n",
            "978:\tlearn: 0.0396274\ttotal: 4.3s\tremaining: 92.2ms\n",
            "979:\tlearn: 0.0395671\ttotal: 4.3s\tremaining: 87.8ms\n",
            "980:\tlearn: 0.0395023\ttotal: 4.31s\tremaining: 83.4ms\n",
            "981:\tlearn: 0.0394245\ttotal: 4.31s\tremaining: 79ms\n",
            "982:\tlearn: 0.0393736\ttotal: 4.31s\tremaining: 74.6ms\n",
            "983:\tlearn: 0.0393063\ttotal: 4.32s\tremaining: 70.2ms\n",
            "984:\tlearn: 0.0392600\ttotal: 4.32s\tremaining: 65.8ms\n",
            "985:\tlearn: 0.0391809\ttotal: 4.33s\tremaining: 61.4ms\n",
            "986:\tlearn: 0.0391108\ttotal: 4.33s\tremaining: 57ms\n",
            "987:\tlearn: 0.0390492\ttotal: 4.33s\tremaining: 52.6ms\n",
            "988:\tlearn: 0.0389851\ttotal: 4.34s\tremaining: 48.2ms\n",
            "989:\tlearn: 0.0389020\ttotal: 4.34s\tremaining: 43.8ms\n",
            "990:\tlearn: 0.0388457\ttotal: 4.34s\tremaining: 39.5ms\n",
            "991:\tlearn: 0.0387752\ttotal: 4.35s\tremaining: 35.1ms\n",
            "992:\tlearn: 0.0387161\ttotal: 4.35s\tremaining: 30.7ms\n",
            "993:\tlearn: 0.0386607\ttotal: 4.36s\tremaining: 26.3ms\n",
            "994:\tlearn: 0.0385970\ttotal: 4.36s\tremaining: 21.9ms\n",
            "995:\tlearn: 0.0385319\ttotal: 4.36s\tremaining: 17.5ms\n",
            "996:\tlearn: 0.0384721\ttotal: 4.37s\tremaining: 13.1ms\n",
            "997:\tlearn: 0.0384291\ttotal: 4.37s\tremaining: 8.76ms\n",
            "998:\tlearn: 0.0383856\ttotal: 4.38s\tremaining: 4.38ms\n",
            "999:\tlearn: 0.0383442\ttotal: 4.38s\tremaining: 0us\n"
          ],
          "name": "stdout"
        },
        {
          "output_type": "execute_result",
          "data": {
            "text/plain": [
              "<catboost.core.CatBoostClassifier at 0x7f285b0ca250>"
            ]
          },
          "metadata": {
            "tags": []
          },
          "execution_count": 20
        }
      ]
    },
    {
      "cell_type": "code",
      "metadata": {
        "id": "KFcSrle8YhgU"
      },
      "source": [
        "y_pred=cbc.predict(X_test)"
      ],
      "execution_count": null,
      "outputs": []
    },
    {
      "cell_type": "markdown",
      "metadata": {
        "id": "Gjzq5e-EZF4_"
      },
      "source": [
        "#### Scoring the Catboost"
      ]
    },
    {
      "cell_type": "code",
      "metadata": {
        "colab": {
          "base_uri": "https://localhost:8080/"
        },
        "id": "lix_EUcmYlZU",
        "outputId": "c94a2fc0-65e4-43ae-cc5e-711ddccfd8e5"
      },
      "source": [
        "from sklearn.metrics import r2_score\n",
        "r2_cb=r2_score(y_test,y_pred)\n",
        "print(r2_cb)"
      ],
      "execution_count": null,
      "outputs": [
        {
          "output_type": "stream",
          "text": [
            "0.9013377926421404\n"
          ],
          "name": "stdout"
        }
      ]
    },
    {
      "cell_type": "code",
      "metadata": {
        "colab": {
          "base_uri": "https://localhost:8080/"
        },
        "id": "zeSn63pxZOu5",
        "outputId": "29cd5d52-b266-4f2a-a510-482eca8b9ce6"
      },
      "source": [
        "from sklearn.metrics import confusion_matrix\n",
        "cm_cb = confusion_matrix(y_test,y_pred)\n",
        "print(cm_cb)"
      ],
      "execution_count": null,
      "outputs": [
        {
          "output_type": "stream",
          "text": [
            "[[13  0]\n",
            " [ 1 45]]\n"
          ],
          "name": "stdout"
        }
      ]
    },
    {
      "cell_type": "code",
      "metadata": {
        "colab": {
          "base_uri": "https://localhost:8080/"
        },
        "id": "ct-WLlGzZcHT",
        "outputId": "865449a8-cbfa-4cc4-9c68-4f1f3891e4a2"
      },
      "source": [
        "from sklearn.metrics import accuracy_score\n",
        "ac_cb = accuracy_score(y_test,y_pred)\n",
        "print(ac_cb)"
      ],
      "execution_count": null,
      "outputs": [
        {
          "output_type": "stream",
          "text": [
            "0.9830508474576272\n"
          ],
          "name": "stdout"
        }
      ]
    },
    {
      "cell_type": "markdown",
      "metadata": {
        "id": "nSA0LVGfZkNZ"
      },
      "source": [
        "### LightGbm"
      ]
    },
    {
      "cell_type": "code",
      "metadata": {
        "colab": {
          "base_uri": "https://localhost:8080/"
        },
        "id": "2o-d1XBcZhmL",
        "outputId": "a98f49a6-875b-4f83-f5bb-037840c298a9"
      },
      "source": [
        "from lightgbm import LGBMClassifier\n",
        "lgb = LGBMClassifier ()\n",
        "lgb.fit(X_train,y_train)"
      ],
      "execution_count": null,
      "outputs": [
        {
          "output_type": "execute_result",
          "data": {
            "text/plain": [
              "LGBMClassifier(boosting_type='gbdt', class_weight=None, colsample_bytree=1.0,\n",
              "               importance_type='split', learning_rate=0.1, max_depth=-1,\n",
              "               min_child_samples=20, min_child_weight=0.001, min_split_gain=0.0,\n",
              "               n_estimators=100, n_jobs=-1, num_leaves=31, objective=None,\n",
              "               random_state=None, reg_alpha=0.0, reg_lambda=0.0, silent=True,\n",
              "               subsample=1.0, subsample_for_bin=200000, subsample_freq=0)"
            ]
          },
          "metadata": {
            "tags": []
          },
          "execution_count": 26
        }
      ]
    },
    {
      "cell_type": "code",
      "metadata": {
        "id": "bypzyM6Da6Zs"
      },
      "source": [
        "y_pred =lgb.predict(X_test)"
      ],
      "execution_count": null,
      "outputs": []
    },
    {
      "cell_type": "markdown",
      "metadata": {
        "id": "4Ym-GcSObG0T"
      },
      "source": [
        "#### Scoring LightGBM"
      ]
    },
    {
      "cell_type": "code",
      "metadata": {
        "colab": {
          "base_uri": "https://localhost:8080/"
        },
        "id": "_DUIZSOoa-tx",
        "outputId": "1adeaf60-0af6-4f90-b467-9050041e9d08"
      },
      "source": [
        "from sklearn.metrics import r2_score\n",
        "r2_lgb=r2_score(y_test,y_pred)\n",
        "print(r2_lgb)"
      ],
      "execution_count": null,
      "outputs": [
        {
          "output_type": "stream",
          "text": [
            "0.6053511705685619\n"
          ],
          "name": "stdout"
        }
      ]
    },
    {
      "cell_type": "code",
      "metadata": {
        "colab": {
          "base_uri": "https://localhost:8080/"
        },
        "id": "2kYIBQV8bMzE",
        "outputId": "ffd60b78-a15e-44a1-8bb2-1cbbafec210a"
      },
      "source": [
        "from sklearn.metrics import confusion_matrix\n",
        "cm_lgb = confusion_matrix(y_test,y_pred)\n",
        "print(cm_lgb)"
      ],
      "execution_count": null,
      "outputs": [
        {
          "output_type": "stream",
          "text": [
            "[[13  0]\n",
            " [ 4 42]]\n"
          ],
          "name": "stdout"
        }
      ]
    },
    {
      "cell_type": "code",
      "metadata": {
        "colab": {
          "base_uri": "https://localhost:8080/"
        },
        "id": "4xWQKFv1bNBJ",
        "outputId": "d4c1dd29-aefb-43e0-95c0-18482c700a87"
      },
      "source": [
        "from sklearn.metrics import accuracy_score\n",
        "ac_lgb = accuracy_score(y_test,y_pred)\n",
        "print(ac_lgb)"
      ],
      "execution_count": null,
      "outputs": [
        {
          "output_type": "stream",
          "text": [
            "0.9322033898305084\n"
          ],
          "name": "stdout"
        }
      ]
    },
    {
      "cell_type": "markdown",
      "metadata": {
        "id": "JR5cWy2QbX5d"
      },
      "source": [
        "### Comparing the 3 methods"
      ]
    },
    {
      "cell_type": "markdown",
      "metadata": {
        "id": "X7n_pQaVdqTA"
      },
      "source": [
        "#### r2 scores"
      ]
    },
    {
      "cell_type": "code",
      "metadata": {
        "colab": {
          "base_uri": "https://localhost:8080/"
        },
        "id": "puPh2Vyqbb4y",
        "outputId": "915993b5-de93-485c-f461-92016a1695a4"
      },
      "source": [
        "label = ['XG Boost','Cat Boost','LightGBM Boost']\n",
        "r2 = [r2_xg,r2_cb,r2_lgb]\n",
        "for i in range(0,len(r2)):\n",
        "    r2[i]=np.round(r2[i]*100,decimals=3)\n",
        "print(r2)"
      ],
      "execution_count": null,
      "outputs": [
        {
          "output_type": "stream",
          "text": [
            "[80.268, 90.134, 60.535]\n"
          ],
          "name": "stdout"
        }
      ]
    },
    {
      "cell_type": "code",
      "metadata": {
        "colab": {
          "base_uri": "https://localhost:8080/",
          "height": 499
        },
        "id": "Mh6u9gXhbcIm",
        "outputId": "c789eb7d-977b-40f5-e8f6-4689c1b93014"
      },
      "source": [
        "plt.figure(figsize=(14,8))\n",
        "p=sns.barplot(y=r2,x=label)\n",
        "plt.title(\"Comparing different Boosting techniques\",fontweight=\"bold\")\n",
        "for z in p.patches:\n",
        "    width, height = z.get_width(), z.get_height()\n",
        "    x, y = z.get_xy() \n",
        "    p.annotate('{:.3f}%'.format(height), (x +0.25, y + height + 0.8))\n",
        "plt.show()"
      ],
      "execution_count": null,
      "outputs": [
        {
          "output_type": "display_data",
          "data": {
            "image/png": "[encoded data removed]",
            "text/plain": [
              "<Figure size 1008x576 with 1 Axes>"
            ]
          },
          "metadata": {
            "tags": [],
            "needs_background": "light"
          }
        }
      ]
    },
    {
      "cell_type": "markdown",
      "metadata": {
        "id": "TOre1b4Ydsbw"
      },
      "source": [
        "#### accuracy scores"
      ]
    },
    {
      "cell_type": "code",
      "metadata": {
        "colab": {
          "base_uri": "https://localhost:8080/"
        },
        "id": "Mfga6k6GcGUV",
        "outputId": "8eb4b994-9aca-4acf-b4ea-fd68946bcaec"
      },
      "source": [
        "ac = [ac_xg,ac_cb,ac_lgb]\n",
        "for i in range(0,len(ac)):\n",
        "    ac[i]=np.round(ac[i]*100,decimals=3)\n",
        "print(ac)"
      ],
      "execution_count": null,
      "outputs": [
        {
          "output_type": "stream",
          "text": [
            "[96.61, 98.305, 93.22]\n"
          ],
          "name": "stdout"
        }
      ]
    },
    {
      "cell_type": "code",
      "metadata": {
        "colab": {
          "base_uri": "https://localhost:8080/",
          "height": 499
        },
        "id": "W6nDCjr_dw_B",
        "outputId": "3114db1c-a6b9-42bd-afeb-ae78ad895e7d"
      },
      "source": [
        "plt.figure(figsize=(14,8))\n",
        "p=sns.barplot(y=ac,x=label)\n",
        "plt.title(\"Comparing different Boosting techniques\",fontweight=\"bold\")\n",
        "for z in p.patches:\n",
        "    width, height = z.get_width(), z.get_height()\n",
        "    x, y = z.get_xy() \n",
        "    p.annotate('{:.3f}%'.format(height), (x +0.25, y + height + 0.8))\n",
        "plt.show()"
      ],
      "execution_count": null,
      "outputs": [
        {
          "output_type": "display_data",
          "data": {
            "image/png": "[encoded data removed]",
            "text/plain": [
              "<Figure size 1008x576 with 1 Axes>"
            ]
          },
          "metadata": {
            "tags": [],
            "needs_background": "light"
          }
        }
      ]
    }
  ]
}